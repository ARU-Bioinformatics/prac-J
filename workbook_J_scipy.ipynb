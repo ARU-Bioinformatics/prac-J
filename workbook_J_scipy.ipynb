{
  "nbformat": 4,
  "nbformat_minor": 0,
  "metadata": {
    "kernelspec": {
      "display_name": "Python 3",
      "language": "python",
      "name": "python3"
    },
    "language_info": {
      "codemirror_mode": {
        "name": "ipython",
        "version": 3
      },
      "file_extension": ".py",
      "mimetype": "text/x-python",
      "name": "python",
      "nbconvert_exporter": "python",
      "pygments_lexer": "ipython3",
      "version": "3.8.5"
    },
    "colab": {
      "name": "workbook_J_scipy.ipynb",
      "provenance": [],
      "collapsed_sections": [
        "EUAbRc5cFjaf",
        "I6Jioc3oFjag",
        "UH31_G0CFjai",
        "9Cw8voGeFjai",
        "aifPsnVhFjai",
        "3zxZPvbAFjal",
        "ELvrhoysFjan",
        "g4sM4amVFjan",
        "Y7Pw_lxnFjaq",
        "Jrh-jJFxFjau"
      ]
    }
  },
  "cells": [
    {
      "cell_type": "markdown",
      "metadata": {
        "id": "2_343dQfFjaN"
      },
      "source": [
        "# Practical J - SciPy\n",
        "\n",
        "What we have seen so far\n",
        "- Introduction to NumPy\n",
        "- Plotting using matplotlib\n",
        "\n",
        "# What is SciPy?\n",
        "\n",
        "Scipy is a collection of packages that provide useful *mathematical* functions commonly used for scientific computing.\n",
        "\n",
        "List of subpackages\n",
        "- cluster : Clustering algorithms\n",
        "- constants : Physical and mathematical constants\n",
        "- fftpack : Fast Fourier Transform routines\n",
        "- integrate : Integration and ordinary differential equation solvers\n",
        "- interpolate : Interpolation and smoothing splines\n",
        "- io : Input and Output\n",
        "- linalg : Linear algebra\n",
        "- ndimage : N-dimensional image processing\n",
        "- odr : Orthogonal distance regression\n",
        "- optimize : Optimization and root-finding routines\n",
        "- signal : Signal processing\n",
        "- sparse : Sparse matrices and associated routines\n",
        "- spatial : Spatial data structures and algorithms\n",
        "- special : Special functions\n",
        "- stats : Statistical distributions and functions\n",
        "\n",
        "We cannot cover all of them in detail but we will go through some of the packages and their capabilities today\n",
        "\n",
        "In this practical we will cover\n",
        "1. interpolate\n",
        "2. optimize\n",
        "3. stats\n",
        "4. integrate"
      ]
    },
    {
      "cell_type": "code",
      "metadata": {
        "id": "CT27ooEoFjaP"
      },
      "source": [
        "import numpy as np\n",
        "import matplotlib.pyplot as plt"
      ],
      "execution_count": null,
      "outputs": []
    },
    {
      "cell_type": "code",
      "metadata": {
        "id": "wqMWNISWFjaQ"
      },
      "source": [
        "from numpy import linalg as la"
      ],
      "execution_count": null,
      "outputs": []
    },
    {
      "cell_type": "markdown",
      "metadata": {
        "id": "g_jyl1RnFjaR"
      },
      "source": [
        "## Interpolation : `scipy.interpolate`"
      ]
    },
    {
      "cell_type": "code",
      "metadata": {
        "id": "w-QAuQuJFjaS"
      },
      "source": [
        "import scipy.interpolate as interp"
      ],
      "execution_count": null,
      "outputs": []
    },
    {
      "cell_type": "code",
      "metadata": {
        "id": "SUFGPudrFjaT"
      },
      "source": [
        "x = np.linspace(-1,2,5);\n",
        "y = x**3\n",
        "plt.plot(x,y,'bo')"
      ],
      "execution_count": null,
      "outputs": []
    },
    {
      "cell_type": "code",
      "metadata": {
        "id": "dIymieGFFjaU"
      },
      "source": [
        "f = interp.interp1d(x,y,kind=\"linear\")"
      ],
      "execution_count": null,
      "outputs": []
    },
    {
      "cell_type": "code",
      "metadata": {
        "id": "LBeBOOeXFjaW"
      },
      "source": [
        "type(f)"
      ],
      "execution_count": null,
      "outputs": []
    },
    {
      "cell_type": "code",
      "metadata": {
        "id": "zIhvSeUtFjaX"
      },
      "source": [
        "f(0.2)"
      ],
      "execution_count": null,
      "outputs": []
    },
    {
      "cell_type": "code",
      "metadata": {
        "id": "99V9SVevFjaY"
      },
      "source": [
        "x_fine = np.linspace(-1,2,100)\n",
        "plt.plot(x_fine,f(x_fine))\n",
        "\n",
        "plt.plot(x,y,'ro')"
      ],
      "execution_count": null,
      "outputs": []
    },
    {
      "cell_type": "code",
      "metadata": {
        "id": "nomC0u50FjaZ"
      },
      "source": [
        "plt.plot(x_fine,interp.interp1d(x,y,kind=\"zero\")(x_fine))\n",
        "plt.plot(x_fine,interp.interp1d(x,y,kind=\"linear\")(x_fine))\n",
        "plt.plot(x_fine,interp.interp1d(x,y,kind=\"cubic\")(x_fine))\n",
        "plt.plot(x,y,'ro')"
      ],
      "execution_count": null,
      "outputs": []
    },
    {
      "cell_type": "code",
      "metadata": {
        "id": "tlmEyjrNFjaZ"
      },
      "source": [
        "interp.interp1d?"
      ],
      "execution_count": null,
      "outputs": []
    },
    {
      "cell_type": "code",
      "metadata": {
        "id": "OcVN0pv6Fjaa"
      },
      "source": [
        "interp.interp2d?"
      ],
      "execution_count": null,
      "outputs": []
    },
    {
      "cell_type": "markdown",
      "metadata": {
        "id": "ksb2wnUOFjaa"
      },
      "source": [
        "## Optimization : `scipy.optimize`\n",
        "\n",
        "Contains functions to find minima, roots and fit parameters "
      ]
    },
    {
      "cell_type": "code",
      "metadata": {
        "id": "f1DBg76jFjaa"
      },
      "source": [
        "from scipy import optimize"
      ],
      "execution_count": null,
      "outputs": []
    },
    {
      "cell_type": "code",
      "metadata": {
        "id": "RIaMesjWFjab"
      },
      "source": [
        "def f(x):\n",
        "    return x**4 -10*x**2"
      ],
      "execution_count": null,
      "outputs": []
    },
    {
      "cell_type": "code",
      "metadata": {
        "id": "HvZWkiggFjab"
      },
      "source": [
        "x = np.linspace(-5,5,100)\n",
        "plt.plot(x,f(x));"
      ],
      "execution_count": null,
      "outputs": []
    },
    {
      "cell_type": "code",
      "metadata": {
        "id": "Z5wXsoGtFjab"
      },
      "source": [
        "results = optimize.minimize(f, -0.5,bounds=[(-1,2)])\n",
        "results"
      ],
      "execution_count": null,
      "outputs": []
    },
    {
      "cell_type": "code",
      "metadata": {
        "id": "7RwxBx0YFjac"
      },
      "source": [
        "x_opt = results.x"
      ],
      "execution_count": null,
      "outputs": []
    },
    {
      "cell_type": "code",
      "metadata": {
        "id": "gpgBZuLrFjac"
      },
      "source": [
        "plt.plot(x,f(x));\n",
        "plt.plot(x_opt,f(x_opt),'ro');"
      ],
      "execution_count": null,
      "outputs": []
    },
    {
      "cell_type": "code",
      "metadata": {
        "id": "OrjlU-v4Fjad"
      },
      "source": [
        "optimize.minimize?"
      ],
      "execution_count": null,
      "outputs": []
    },
    {
      "cell_type": "code",
      "metadata": {
        "id": "nPWU13A7Fjad"
      },
      "source": [
        "def f(x):\n",
        "    return x[0]*x[0] + x[1]*x[1] + 5*(np.sin(2*x[0]) + np.sin(2*x[1]) )"
      ],
      "execution_count": null,
      "outputs": []
    },
    {
      "cell_type": "code",
      "metadata": {
        "id": "gwj3OEwqFjad"
      },
      "source": [
        "x=np.linspace(-5,5,100)\n",
        "y=np.linspace(-5,5,100)\n",
        "X,Y = np.meshgrid(x,y)"
      ],
      "execution_count": null,
      "outputs": []
    },
    {
      "cell_type": "code",
      "metadata": {
        "id": "j6klxbuLFjae"
      },
      "source": [
        "plt.imshow(X*X+ Y*Y + 5*(np.sin(2*X) + np.sin(2*Y)))"
      ],
      "execution_count": null,
      "outputs": []
    },
    {
      "cell_type": "code",
      "metadata": {
        "id": "xMpscou4Fjae"
      },
      "source": [
        "plt.imshow(f(np.array([X,Y])))"
      ],
      "execution_count": null,
      "outputs": []
    },
    {
      "cell_type": "code",
      "metadata": {
        "id": "CSZ8ZfioFjae"
      },
      "source": [
        "results = optimize.minimize(f,x0=[0,0])\n",
        "x_opt , y_opt = results.x\n",
        "results\n"
      ],
      "execution_count": null,
      "outputs": []
    },
    {
      "cell_type": "code",
      "metadata": {
        "id": "RxDH3uDlFjae"
      },
      "source": [
        "f(results.x)"
      ],
      "execution_count": null,
      "outputs": []
    },
    {
      "cell_type": "markdown",
      "metadata": {
        "id": "EUAbRc5cFjaf"
      },
      "source": [
        "## Curve Fitting"
      ]
    },
    {
      "cell_type": "code",
      "metadata": {
        "id": "cMv4JWxBFjaf"
      },
      "source": [
        "x = np.linspace(-2,2,30)\n",
        "y = x+np.sin(6.5*x)+0.3*np.random.randn(30)\n",
        "plt.plot(x,y,'ro')"
      ],
      "execution_count": null,
      "outputs": []
    },
    {
      "cell_type": "code",
      "metadata": {
        "id": "nqhqVvNYFjaf"
      },
      "source": [
        "def f(x,a,b):\n",
        "    return a*x +b"
      ],
      "execution_count": null,
      "outputs": []
    },
    {
      "cell_type": "code",
      "metadata": {
        "id": "IQK1FVtAFjaf"
      },
      "source": [
        "((a,b),_) = optimize.curve_fit(f,x,y,(0,0))\n",
        "a,b"
      ],
      "execution_count": null,
      "outputs": []
    },
    {
      "cell_type": "code",
      "metadata": {
        "id": "lZiXFKkfFjaf"
      },
      "source": [
        "optimize.curve_fit?"
      ],
      "execution_count": null,
      "outputs": []
    },
    {
      "cell_type": "code",
      "metadata": {
        "id": "Y-OuwRs7Fjaf"
      },
      "source": [
        "x_fine = np.linspace(-2,2,200)\n",
        "plt.plot(x_fine,f(x_fine,a,b))\n",
        "plt.plot(x,y,'ro')"
      ],
      "execution_count": null,
      "outputs": []
    },
    {
      "cell_type": "code",
      "metadata": {
        "id": "D_qob6dhFjaf"
      },
      "source": [
        "a,b"
      ],
      "execution_count": null,
      "outputs": []
    },
    {
      "cell_type": "code",
      "metadata": {
        "id": "Gbqp8XHlFjaf"
      },
      "source": [
        "def g(x,a,b):\n",
        "    return a*x +b*np.sin(6.5*x)"
      ],
      "execution_count": null,
      "outputs": []
    },
    {
      "cell_type": "code",
      "metadata": {
        "id": "bkt05Y0KFjag"
      },
      "source": [
        "((a,b),_) = optimize.curve_fit(g,x,y,(0.1,0.1))\n",
        "a,b"
      ],
      "execution_count": null,
      "outputs": []
    },
    {
      "cell_type": "code",
      "metadata": {
        "id": "ZNtalI1rFjag"
      },
      "source": [
        "x_fine = np.linspace(-2,2,200)\n",
        "plt.plot(x_fine,g(x_fine,a,b))\n",
        "plt.plot(x,y,'ro')"
      ],
      "execution_count": null,
      "outputs": []
    },
    {
      "cell_type": "markdown",
      "metadata": {
        "id": "I6Jioc3oFjag"
      },
      "source": [
        "### Root Finding"
      ]
    },
    {
      "cell_type": "code",
      "metadata": {
        "id": "Bj-Ijtz6Fjag"
      },
      "source": [
        "def f(x):\n",
        "    return np.sin(x)"
      ],
      "execution_count": null,
      "outputs": []
    },
    {
      "cell_type": "code",
      "metadata": {
        "id": "SAm1WIKGFjah"
      },
      "source": [
        "optimize.root(f,-2)"
      ],
      "execution_count": null,
      "outputs": []
    },
    {
      "cell_type": "markdown",
      "metadata": {
        "id": "UH31_G0CFjai"
      },
      "source": [
        "## Linear programming\n",
        "A very common case is linear programming (LP). These are optimization problems that can be written in the form\n",
        "\n",
        "$$\n",
        "\\begin{equation}\n",
        "\\begin{split}\n",
        "\\text{minimize} \\;\\; & c^{T}x  \\\\\n",
        "\\text{subject to} \\;\\; & A_{ub}x \\leq b_{ub} \\\\\n",
        "& A_{eq}x = b_{eq}\n",
        "\\end{split}\n",
        "\\end{equation}\n",
        "$$\n",
        "\n",
        "Here, we are finding the vector $x$ that minimizes the dot product $c^T x$, where $c$ is some fixed vector, out of all $x$ that satisfy $A_{ub}x \\leq b_{ub}$ and $A_{eq}x = b_{eq}$, where $A_{ub}$ and $A_{eq}$ are matrices and $b_{ub}$ and $b_{eq}$ are vectors."
      ]
    },
    {
      "cell_type": "markdown",
      "metadata": {
        "id": "9Cw8voGeFjai"
      },
      "source": [
        "## Exercise\n",
        "Using Google and reading documentation are important parts of programming. `scipy.optimize` comes with specialized functions for solving linear programming problems.\n",
        "\n",
        "Figure out how to solve LPs using `scipy.optimize`, and solve the following LP:\n",
        "$$\n",
        "\\begin{equation}\n",
        "\\begin{split}\n",
        "\\text{minimize} \\;\\; & x_1 + 2 x_2  \\\\\n",
        "\\text{subject to} \\;\\; & x_1 \\leq 1 \\\\\n",
        "& 5 x_1 + x_2 \\geq 0\n",
        "\\end{split}\n",
        "\\end{equation}\n",
        "$$\n",
        "\n",
        "Note that the problem is equivalent to\n",
        "\n",
        "$$\n",
        "\\begin{equation}\n",
        "\\begin{split}\n",
        "\\text{minimize} \\;\\; & c^T x  \\\\\n",
        "\\text{subject to} \\;\\; & A_{ub}x \\leq b_{ub} \\\\\n",
        "& A_{eq}x = b_{eq}\n",
        "\\end{split}\n",
        "\\end{equation}\n",
        "$$\n",
        "where\n",
        "$$\n",
        "c = \\begin{pmatrix} 1 \\\\ 2 \\end{pmatrix} \\qquad \n",
        "A_{ub} = \\begin{pmatrix} 1 & 0 \\\\ -5 & -1 \\end{pmatrix}, \\qquad\n",
        "b_{ub} = \\begin{pmatrix} 1 \\\\ 0 \\end{pmatrix}, \\qquad\n",
        "A_{eq} = 0, \\qquad\n",
        "b_{eq} = 0.\n",
        "$$\n",
        "\n",
        "We can see this because \n",
        "$$\n",
        " \\begin{pmatrix} 1 & 0 \\\\ -5 & -1 \\end{pmatrix} \\begin{pmatrix} x_1 \\\\ x_2 \\end{pmatrix} \\leq \\begin{pmatrix} x_1 \\\\ -5x_1 - x_2 \\end{pmatrix} \n",
        "$$"
      ]
    },
    {
      "cell_type": "code",
      "metadata": {
        "id": "V8TwE8wcFjai"
      },
      "source": [
        ""
      ],
      "execution_count": null,
      "outputs": []
    },
    {
      "cell_type": "markdown",
      "metadata": {
        "id": "aifPsnVhFjai"
      },
      "source": [
        "## Statistics : `scipy.stats`"
      ]
    },
    {
      "cell_type": "code",
      "metadata": {
        "id": "WYgCesY_Fjaj"
      },
      "source": [
        "from scipy import stats"
      ],
      "execution_count": null,
      "outputs": []
    },
    {
      "cell_type": "markdown",
      "metadata": {
        "id": "c2qk55uSFjaj"
      },
      "source": [
        "Find the maximum likelihood estimate for parameters"
      ]
    },
    {
      "cell_type": "code",
      "metadata": {
        "id": "QLO11o9lFjaj"
      },
      "source": [
        "samples = 3*np.random.randn(1000)+2\n",
        "plt.hist(samples);"
      ],
      "execution_count": null,
      "outputs": []
    },
    {
      "cell_type": "code",
      "metadata": {
        "id": "fjDApHRZFjaj"
      },
      "source": [
        "stats.norm.fit(samples)"
      ],
      "execution_count": null,
      "outputs": []
    },
    {
      "cell_type": "code",
      "metadata": {
        "id": "wamOafZ4Fjaj"
      },
      "source": [
        "a = np.random.randn(300)\n",
        "b = np.random.randn(300) + 0.2"
      ],
      "execution_count": null,
      "outputs": []
    },
    {
      "cell_type": "code",
      "metadata": {
        "id": "s1j6IuedFjaj"
      },
      "source": [
        "#t test for independent distributions to see if they have equal means\n",
        "stats.ttest_ind(a,b)"
      ],
      "execution_count": null,
      "outputs": []
    },
    {
      "cell_type": "code",
      "metadata": {
        "id": "UjwZcjxcFjak"
      },
      "source": [
        "a = np.random.randn(300)\n",
        "b = np.random.randn(300)/2 + a/2"
      ],
      "execution_count": null,
      "outputs": []
    },
    {
      "cell_type": "code",
      "metadata": {
        "id": "CSRZnG-sFjak"
      },
      "source": [
        "stats.pearsonr?"
      ],
      "execution_count": null,
      "outputs": []
    },
    {
      "cell_type": "code",
      "metadata": {
        "id": "mtSElHzVFjak"
      },
      "source": [
        "b = b-sum(b)/b.shape[0]"
      ],
      "execution_count": null,
      "outputs": []
    },
    {
      "cell_type": "code",
      "metadata": {
        "id": "t-y6qy7BFjak"
      },
      "source": [
        "stats.pearsonr(a,b)"
      ],
      "execution_count": null,
      "outputs": []
    },
    {
      "cell_type": "markdown",
      "metadata": {
        "id": "CZtd06GkFjak"
      },
      "source": [
        "You can also perform kernel density estimation"
      ]
    },
    {
      "cell_type": "code",
      "metadata": {
        "id": "D0Yv025-Fjal"
      },
      "source": [
        "x = np.hstack(( 2*np.random.randn(1000)+5,  0.6*np.random.randn(1000)-1) )"
      ],
      "execution_count": null,
      "outputs": []
    },
    {
      "cell_type": "code",
      "metadata": {
        "id": "2PuFS21lFjal"
      },
      "source": [
        "plt.hist(x);"
      ],
      "execution_count": null,
      "outputs": []
    },
    {
      "cell_type": "code",
      "metadata": {
        "id": "8PSwur6KFjal"
      },
      "source": [
        "pdf = stats.kde.gaussian_kde(x)"
      ],
      "execution_count": null,
      "outputs": []
    },
    {
      "cell_type": "code",
      "metadata": {
        "id": "Bz-p1bc4Fjal"
      },
      "source": [
        "type(pdf)"
      ],
      "execution_count": null,
      "outputs": []
    },
    {
      "cell_type": "code",
      "metadata": {
        "id": "hlcZrOCBFjal"
      },
      "source": [
        "counts,bins,_ = plt.hist(x)\n",
        "x_fine=np.linspace(-2,10,100)\n",
        "plt.plot(x_fine,np.sum(counts)*pdf(x_fine))"
      ],
      "execution_count": null,
      "outputs": []
    },
    {
      "cell_type": "markdown",
      "metadata": {
        "id": "3zxZPvbAFjal"
      },
      "source": [
        "## Numerical Integration : `scipy.integrate`"
      ]
    },
    {
      "cell_type": "code",
      "metadata": {
        "id": "hrNMIi6_Fjal"
      },
      "source": [
        "import scipy.integrate as integ"
      ],
      "execution_count": null,
      "outputs": []
    },
    {
      "cell_type": "markdown",
      "metadata": {
        "id": "ECG7Wd7GFjal"
      },
      "source": [
        "You can compute integral using the `quad` funtion"
      ]
    },
    {
      "cell_type": "code",
      "metadata": {
        "id": "zTqQVWPaFjam"
      },
      "source": [
        "def f(x):\n",
        "    return x**2 + 5*x + np.sin(x)"
      ],
      "execution_count": null,
      "outputs": []
    },
    {
      "cell_type": "code",
      "metadata": {
        "id": "4Q6GsgsbFjam"
      },
      "source": [
        "integ.quad(f,-1,1)"
      ],
      "execution_count": null,
      "outputs": []
    },
    {
      "cell_type": "code",
      "metadata": {
        "id": "fK1Ek9VZFjam"
      },
      "source": [
        "integ.quad?"
      ],
      "execution_count": null,
      "outputs": []
    },
    {
      "cell_type": "markdown",
      "metadata": {
        "id": "sP6hWcxwFjam"
      },
      "source": [
        "You can also solve ODEs of the form\n",
        "$$ \\frac{dy}{dt} = f(y,t) $$"
      ]
    },
    {
      "cell_type": "code",
      "metadata": {
        "id": "T0skJkneFjam"
      },
      "source": [
        "def f(y,t):\n",
        "    return (y[1], -y[1]-9*y[0])"
      ],
      "execution_count": null,
      "outputs": []
    },
    {
      "cell_type": "code",
      "metadata": {
        "id": "rQj6kzOOFjam"
      },
      "source": [
        "t = np.linspace(0,10,100)\n",
        "Y = integ.odeint(f,[1,1],t)"
      ],
      "execution_count": null,
      "outputs": []
    },
    {
      "cell_type": "code",
      "metadata": {
        "id": "5H51EbOOFjam"
      },
      "source": [
        "plt.plot(t,Y[:,1])"
      ],
      "execution_count": null,
      "outputs": []
    },
    {
      "cell_type": "markdown",
      "metadata": {
        "id": "ELvrhoysFjan"
      },
      "source": [
        "## Physical simulation\n",
        "Let's simulate a throwing a ball in two dimensions. The ball is described as a function of time by four functions: $x(t), y(t), v_x(t), v_y(t)$, which are governed by the ODE system:\n",
        "\n",
        "$$\n",
        "    \\frac{dx}{dt} = v_x, \\qquad\n",
        "    \\frac{dy}{dt} = v_y, \\qquad\n",
        "    \\frac{dv_x}{dt} = 0, \\qquad\n",
        "    \\frac{dv_y}{dt} = -g.\n",
        "$$\n",
        "\n",
        "We can think of this in vectorized form as:\n",
        "\n",
        "$$\n",
        "    \\frac{d}{dt} \\begin{pmatrix} x \\\\ y \\\\ v_x \\\\ v_y \\end{pmatrix} = \\begin{pmatrix} v_x \\\\ v_y \\\\ 0 \\\\ -g \\end{pmatrix}\n",
        "$$"
      ]
    },
    {
      "cell_type": "code",
      "metadata": {
        "id": "ds54cem7Fjan"
      },
      "source": [
        "def dzdt(z, t):\n",
        "    x, y, vx, vy = z\n",
        "    g = 1\n",
        "    return np.array([vx, vy, 0, -g])"
      ],
      "execution_count": null,
      "outputs": []
    },
    {
      "cell_type": "code",
      "metadata": {
        "id": "3q-EV9KsFjan"
      },
      "source": [
        "import matplotlib.pyplot as plt"
      ],
      "execution_count": null,
      "outputs": []
    },
    {
      "cell_type": "code",
      "metadata": {
        "id": "c-AfSJp4Fjan"
      },
      "source": [
        "x, y = 0, 0\n",
        "vx, vy = 1, 20\n",
        "z = np.array([x, y, vx, vy])\n",
        "t = np.linspace(0, 50, 20)\n",
        "\n",
        "result = integ.odeint(dzdt, z, t)\n",
        "\n",
        "plt.scatter(result[:, 0], result[:, 1])\n",
        "plt.show()"
      ],
      "execution_count": null,
      "outputs": []
    },
    {
      "cell_type": "markdown",
      "metadata": {
        "id": "g4sM4amVFjan"
      },
      "source": [
        "## Exercise\n",
        "We can add drag with the following slight modification to the ODE, which adds a force with direction opposing the current velocity, and with magnitude proportional to the velocity squared.\n",
        "    \n",
        "$$\n",
        "    \\frac{d}{dt} \\begin{pmatrix} x \\\\ y \\\\ v_x \\\\ v_y \\end{pmatrix} = \\begin{pmatrix} v_x \\\\ v_y \\\\ -\\alpha v_x \\sqrt{v_x^2 + v_y^2} \\\\ -g -\\alpha v_y \\sqrt{v_x^2 + v_y^2} \\end{pmatrix}\n",
        "$$\n",
        "\n",
        "Implement this with $\\alpha = 0.001$, plot the resulting trajectory, and compare to the dragless case."
      ]
    },
    {
      "cell_type": "code",
      "metadata": {
        "id": "Awj2VJ44Fjan"
      },
      "source": [
        ""
      ],
      "execution_count": null,
      "outputs": []
    },
    {
      "cell_type": "markdown",
      "metadata": {
        "id": "5v45jyWXFjap"
      },
      "source": [
        "# Other useful packages\n",
        "\n",
        "## `networkx`\n",
        "Useful Package to handle graphs.\n",
        "\n",
        "Install by running `conda install networkx`"
      ]
    },
    {
      "cell_type": "code",
      "metadata": {
        "id": "VmjcRiXoFjap"
      },
      "source": [
        "import networkx as nx"
      ],
      "execution_count": null,
      "outputs": []
    },
    {
      "cell_type": "code",
      "metadata": {
        "id": "Ay7BURjBFjap"
      },
      "source": [
        "G = nx.Graph()\n",
        "G.add_nodes_from([1,2,3,4])\n",
        "G.add_edge(1,2)\n",
        "G.add_edge(2,3)\n",
        "G.add_edge(3,1)\n",
        "G.add_edge(3,4)\n"
      ],
      "execution_count": null,
      "outputs": []
    },
    {
      "cell_type": "code",
      "metadata": {
        "id": "ZwJ3ELbBFjap"
      },
      "source": [
        "nx.draw?"
      ],
      "execution_count": null,
      "outputs": []
    },
    {
      "cell_type": "code",
      "metadata": {
        "id": "8Ya-2OhdFjap"
      },
      "source": [
        "G = nx.complete_graph(10)\n",
        "nx.draw(G)"
      ],
      "execution_count": null,
      "outputs": []
    },
    {
      "cell_type": "markdown",
      "metadata": {
        "id": "Y7Pw_lxnFjaq"
      },
      "source": [
        "## `sympy`\n",
        "\n",
        "Package for performing symbolic computation and manipulation.\n",
        "\n",
        "Install it in your environment by running `conda install sympy`"
      ]
    },
    {
      "cell_type": "code",
      "metadata": {
        "id": "r7t3qiXiFjaq"
      },
      "source": [
        "from sympy import *"
      ],
      "execution_count": null,
      "outputs": []
    },
    {
      "cell_type": "code",
      "metadata": {
        "id": "-e1PibnmFjaq"
      },
      "source": [
        "x,y = symbols(\"x y\")"
      ],
      "execution_count": null,
      "outputs": []
    },
    {
      "cell_type": "code",
      "metadata": {
        "id": "Tfn0JZ2dFjaq"
      },
      "source": [
        "x"
      ],
      "execution_count": null,
      "outputs": []
    },
    {
      "cell_type": "code",
      "metadata": {
        "id": "JrmaZlayFjaq"
      },
      "source": [
        "expr = x+y**2"
      ],
      "execution_count": null,
      "outputs": []
    },
    {
      "cell_type": "code",
      "metadata": {
        "id": "20AaE38GFjar"
      },
      "source": [
        "expr"
      ],
      "execution_count": null,
      "outputs": []
    },
    {
      "cell_type": "code",
      "metadata": {
        "id": "AJBsAg8bFjar"
      },
      "source": [
        "# in colab run this to get latex output\n",
        "# init_printing(use_latex='matplotlib')"
      ],
      "execution_count": null,
      "outputs": []
    },
    {
      "cell_type": "code",
      "metadata": {
        "id": "21qLRxobFjar"
      },
      "source": [
        "x*expr"
      ],
      "execution_count": null,
      "outputs": []
    },
    {
      "cell_type": "code",
      "metadata": {
        "id": "Hgl9tZ85Fjar"
      },
      "source": [
        "expand(x*expr)"
      ],
      "execution_count": null,
      "outputs": []
    },
    {
      "cell_type": "code",
      "metadata": {
        "id": "JRVbmiYSFjar"
      },
      "source": [
        "factor(x**2 - y**2)"
      ],
      "execution_count": null,
      "outputs": []
    },
    {
      "cell_type": "code",
      "metadata": {
        "id": "EE-cUZI-Fjas"
      },
      "source": [
        "latex(expr)"
      ],
      "execution_count": null,
      "outputs": []
    },
    {
      "cell_type": "code",
      "metadata": {
        "id": "yyecflTJFjas"
      },
      "source": [
        "simplify( (x-y)**2 + (x+y)**2)"
      ],
      "execution_count": null,
      "outputs": []
    },
    {
      "cell_type": "code",
      "metadata": {
        "id": "khjQE2x3Fjas"
      },
      "source": [
        "x**2/(y**3+y)"
      ],
      "execution_count": null,
      "outputs": []
    },
    {
      "cell_type": "code",
      "metadata": {
        "id": "oucEG9FDFjas"
      },
      "source": [
        "(x**2/(y**3+y)).subs(y,1/(1+x)).simplify()"
      ],
      "execution_count": null,
      "outputs": []
    },
    {
      "cell_type": "code",
      "metadata": {
        "id": "HUwuqbVaFjat"
      },
      "source": [
        "(x**2/(y**3+y)).evalf(subs={'x':2, 'y':4})\n",
        "# 4/(64+4)"
      ],
      "execution_count": null,
      "outputs": []
    },
    {
      "cell_type": "code",
      "metadata": {
        "id": "Z2dFSLMEFjat"
      },
      "source": [
        "Integral(exp(-x**2 - y**2), (x, -oo, oo), (y, -oo, oo))"
      ],
      "execution_count": null,
      "outputs": []
    },
    {
      "cell_type": "code",
      "metadata": {
        "id": "hCIM_JjGFjat"
      },
      "source": [
        "I = Integral(exp(-x**2 - y**2), (x, -oo, oo), (y, -oo, oo))"
      ],
      "execution_count": null,
      "outputs": []
    },
    {
      "cell_type": "code",
      "metadata": {
        "id": "y1PA0ylZFjat"
      },
      "source": [
        "I.doit()"
      ],
      "execution_count": null,
      "outputs": []
    },
    {
      "cell_type": "code",
      "metadata": {
        "id": "WNplx9-dFjau"
      },
      "source": [
        "(sin(x)/(1+cos(x)))"
      ],
      "execution_count": null,
      "outputs": []
    },
    {
      "cell_type": "code",
      "metadata": {
        "id": "0q02_tOaFjau"
      },
      "source": [
        "(sin(x)/(1+cos(x))).series(x,0,10)"
      ],
      "execution_count": null,
      "outputs": []
    },
    {
      "cell_type": "markdown",
      "metadata": {
        "id": "Jrh-jJFxFjau"
      },
      "source": [
        "## Extra Exercises\n",
        "The following exercises requires the combined usage of the packages we learnt today. \n",
        "\n",
        "1. Generate 10 random polynomials of order 4\n",
        "    - Numerically and analytically integrate them from 0 to 1 and compare the answers.\n",
        "    - Compute a minima for each polynomial and if it exists show that the analytically computed derivative is 0 at the minima\n",
        "    - Randomly sample the polynomials in the range from 0 to 1, and see if you can recover the original coefficents by trying to fit a 4th order polynomial to the samples.\n",
        "2. Read and learn about [Erdos-Renyi Random Graphs](https://en.wikipedia.org/wiki/Erd%C5%91s%E2%80%93R%C3%A9nyi_model). See if you can numerically verify some of the properties mentioned in the wiki, such as for what parameter values is the graph most likely connected.\n",
        "3. Fit a quadratic curve to the drag-dampened ODE above. What does the error in the model look like?"
      ]
    },
    {
      "cell_type": "code",
      "metadata": {
        "id": "I2vB7fK-Fjau"
      },
      "source": [
        "    "
      ],
      "execution_count": null,
      "outputs": []
    }
  ]
}