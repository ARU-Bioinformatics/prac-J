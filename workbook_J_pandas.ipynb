{
  "nbformat": 4,
  "nbformat_minor": 0,
  "metadata": {
    "kernelspec": {
      "display_name": "Python 3",
      "language": "python",
      "name": "python3"
    },
    "language_info": {
      "codemirror_mode": {
        "name": "ipython",
        "version": 3
      },
      "file_extension": ".py",
      "mimetype": "text/x-python",
      "name": "python",
      "nbconvert_exporter": "python",
      "pygments_lexer": "ipython3",
      "version": "3.8.5"
    },
    "colab": {
      "name": "workbook_J_pandas.ipynb",
      "provenance": [],
      "collapsed_sections": [
        "HqkmwrUnFkdq",
        "hiaenl22Fkdt",
        "Xavz2DpLFkdw",
        "xLS-UZzKFkdz",
        "8dayac48Fkdz",
        "pfTrLje_Fkd1",
        "DxUE-4HcFkd2",
        "5AbZyZFrFkd3",
        "KDarcsG9Fkd8",
        "T93i-oYcFkd9",
        "x-YGhfHEFkd9",
        "bdhxYD-ZFkd-"
      ]
    }
  },
  "cells": [
    {
      "cell_type": "markdown",
      "metadata": {
        "id": "ARYNsyVwFkdX"
      },
      "source": [
        "# Practical J - Pandas\n",
        "\n",
        "What we have seen so far\n",
        "- Introduction to NumPy\n",
        "- Plotting using matplotlib\n",
        "- Introduction to SciPy (optional)\n",
        "\n",
        "Before we get started, you may want to make sure that you have the following packages installed in whatever environment you're using: `pandas`\n",
        "\n",
        "```bash\n",
        "conda install pandas\n",
        "```\n",
        "\n",
        "If you are in colab, it should be preinstalled\n",
        "\n",
        "Pandas is a package for working with tabular data. Most modern bioinformatics data is in a form that is either ccsv or tsv compliant, and therefore is suitable for analysis with pandas.\n"
      ]
    },
    {
      "cell_type": "markdown",
      "metadata": {
        "id": "hdwJuEPYFkda"
      },
      "source": [
        "# What is Pandas?\n",
        "\n",
        "[Pandas](https://pandas.pydata.org/) is a Python library for dealing with data.  The main thing you'll hear people talk about is the DataFrame object (inspired by R), which is designed to hold tabular data.\n",
        "\n",
        "## Difference between a DataFrame and NumPy Array\n",
        "\n",
        "Pandas DataFrames and NumPy arrays both have similarities to Python lists.  \n",
        "* Numpy arrays are designed to contain data of one type (e.g. Int, Float, ...)\n",
        "* DataFrames can contain different types of data (Int, Float, String, ...)\n",
        "    * Usually each column has the same type\n",
        "    \n",
        "    \n",
        "Both arrays and DataFrames are optimized for storage/performance beyond Python lists\n",
        "\n",
        "Pandas is also powerful for working with missing data, working with time series data, for reading and writing your data, for reshaping, grouping, merging your data, ...\n",
        "\n",
        "## Key Features\n",
        "\n",
        "* File I/O - integrations with multiple file formats\n",
        "* Working with missing data (.dropna(), pd.isnull())\n",
        "* Normal table operations: merging and joining, groupby functionality, reshaping via stack, and pivot_tables,\n",
        "* Time series-specific functionality:\n",
        "    * date range generation and frequency conversion, moving window statistics/regressions, date shifting and lagging, etc.\n",
        "* Built in Matplotlib integration\n",
        "\n",
        "## Other Strengths\n",
        "\n",
        "* Strong community, support, and documentation\n",
        "* Size mutability: columns can be inserted and deleted from DataFrame and higher dimensional objects\n",
        "* Powerful, flexible group by functionality to perform split-apply-combine operations on data sets, for both aggregating and transforming data\n",
        "* Make it easy to convert ragged, differently-indexed data in other Python and NumPy data structures into DataFrame objects Intelligent label-based slicing, fancy indexing, and subsetting of large data sets\n",
        "\n",
        "## Python/Pandas vs. R\n",
        "\n",
        "* R is a language dedicated to statistics. Python is a general-purpose language with statistics modules.\n",
        "* R has more statistical analysis features than Python, and specialized syntaxes.\n",
        "\n",
        "However, when it comes to building complex analysis pipelines that mix statistics with e.g. image analysis, text mining, or control of a physical experiment, the richness of Python is an invaluable asset."
      ]
    },
    {
      "cell_type": "markdown",
      "metadata": {
        "id": "Cyirj67RFkda"
      },
      "source": [
        "# Getting Started\n",
        "\n",
        "[Here](https://pandas.pydata.org/pandas-docs/stable/generated/pandas.DataFrame.html) is a link to the documentation for DataFrames"
      ]
    },
    {
      "cell_type": "code",
      "metadata": {
        "id": "GWHHcRkyFkdb"
      },
      "source": [
        "%matplotlib inline\n",
        "\n",
        "import pandas as pd\n",
        "import numpy as np\n",
        "import matplotlib.pyplot as plt"
      ],
      "execution_count": null,
      "outputs": []
    },
    {
      "cell_type": "markdown",
      "metadata": {
        "id": "5xbyqBT1Fkdd"
      },
      "source": [
        "## Objects and Basic Creation\n",
        "\n",
        "| Name | Dimensions | Description  |\n",
        "| ------:| -----------:|----------|\n",
        "| ```pd.Series``` | 1 | 1D labeled homogeneously-typed array |\n",
        "| ```pd.DataFrame```  | 2| General 2D labeled, size-mutable tabular structure |\n",
        "| ```pd.Panel``` | 3|  General 3D labeled, also size-mutable array |\n",
        "\n",
        "# Series\n",
        "## What are they?\n",
        "- Series is a one-dimensional labeled array capable of holding any data type (integers, strings, floating point numbers, Python objects, etc.). The axis labels are collectively referred to as the index.\n",
        "- Basic method to create a series: \n",
        "```s = pd.Series(data, index = index) ```\n",
        "- Data Can be many things:\n",
        "    * A Python Dictionary\n",
        "    * An ndarray (or regular Python list)\n",
        "    * A scalar \n",
        "- The passed index is a list of axis labels (which varies on what data is)\n",
        "\n",
        "Think \"Series = Vector + labels\""
      ]
    },
    {
      "cell_type": "code",
      "metadata": {
        "id": "obz9aaaAFkde",
        "colab": {
          "base_uri": "https://localhost:8080/"
        },
        "outputId": "5553029f-e34c-43f3-dc6b-f4621bda09f5"
      },
      "source": [
        "first_series = pd.Series([1,2,4,8,16,32,64])\n",
        "print(type(first_series))\n",
        "print(first_series)"
      ],
      "execution_count": null,
      "outputs": [
        {
          "output_type": "stream",
          "name": "stdout",
          "text": [
            "<class 'pandas.core.series.Series'>\n",
            "0     1\n",
            "1     2\n",
            "2     4\n",
            "3     8\n",
            "4    16\n",
            "5    32\n",
            "6    64\n",
            "dtype: int64\n"
          ]
        }
      ]
    },
    {
      "cell_type": "code",
      "metadata": {
        "id": "wR9VzthpFkdf"
      },
      "source": [
        "s = pd.Series(np.random.randn(5), index=['a', 'b', 'c', 'd', 'e'])\n",
        "print(s)\n",
        "print('-'*50)\n",
        "print(s.index)"
      ],
      "execution_count": null,
      "outputs": []
    },
    {
      "cell_type": "markdown",
      "metadata": {
        "id": "rmvEoQ6AFkdf"
      },
      "source": [
        "If Data is a dictionary, if index is passed the values in data corresponding to the labels in the index will be pulled out, otherwise an index will be constructed from the sorted keys of the dict"
      ]
    },
    {
      "cell_type": "code",
      "metadata": {
        "scrolled": true,
        "id": "pz-InGVoFkdg"
      },
      "source": [
        "d = {'a': [0., 0], 2: 2., 'b': {'1':1.}}\n",
        "pd.Series(d)"
      ],
      "execution_count": null,
      "outputs": []
    },
    {
      "cell_type": "markdown",
      "metadata": {
        "id": "d0GUja2fFkdh"
      },
      "source": [
        "You can create a series from a scalar, but need to specify indices"
      ]
    },
    {
      "cell_type": "code",
      "metadata": {
        "id": "_rdsmVCbFkdi",
        "colab": {
          "base_uri": "https://localhost:8080/"
        },
        "outputId": "b28bb46d-01e0-4c17-a9ad-07776a785df2"
      },
      "source": [
        "pd.Series(5, index = ['a', 'b', 'c'])"
      ],
      "execution_count": null,
      "outputs": [
        {
          "output_type": "execute_result",
          "data": {
            "text/plain": [
              "a    5\n",
              "b    5\n",
              "c    5\n",
              "dtype: int64"
            ]
          },
          "metadata": {},
          "execution_count": 5
        }
      ]
    },
    {
      "cell_type": "markdown",
      "metadata": {
        "id": "Jr3rmOIdFkdj"
      },
      "source": [
        "You can index and slice series like you would numpy arrays/python lists"
      ]
    },
    {
      "cell_type": "code",
      "metadata": {
        "id": "JSsVnBCRFkdk"
      },
      "source": [
        "end_string = '\\n' + '-'*50 + '\\n'\n",
        "s = pd.Series(np.random.randn(5), index=['a', 'b', 'c', 'd', 'e'])"
      ],
      "execution_count": null,
      "outputs": []
    },
    {
      "cell_type": "code",
      "metadata": {
        "id": "OU0cfWP9Fkdl",
        "colab": {
          "base_uri": "https://localhost:8080/"
        },
        "outputId": "887b57c4-2f6a-4a5e-a21a-d08fd1efc761"
      },
      "source": [
        "print(s[0], end = end_string)\n",
        "# slicing\n",
        "print(s[:3], end =end_string)\n",
        "#alternate slicing\n",
        "print(s['a':'c'], end = end_string)"
      ],
      "execution_count": null,
      "outputs": [
        {
          "output_type": "stream",
          "name": "stdout",
          "text": [
            "-0.10805358947974365\n",
            "--------------------------------------------------\n",
            "a   -0.108054\n",
            "b    0.592916\n",
            "c    0.852495\n",
            "dtype: float64\n",
            "--------------------------------------------------\n",
            "a   -0.108054\n",
            "b    0.592916\n",
            "c    0.852495\n",
            "dtype: float64\n",
            "--------------------------------------------------\n"
          ]
        }
      ]
    },
    {
      "cell_type": "code",
      "metadata": {
        "id": "NlwNPQnLFkdl",
        "colab": {
          "base_uri": "https://localhost:8080/"
        },
        "outputId": "60539f07-3b96-4342-9137-10d0165b6407"
      },
      "source": [
        "s1 = pd.Series(np.random.randn(5), index=['a', 'c', 'c', 'b', 'e'])\n",
        "s1['a':'c']"
      ],
      "execution_count": null,
      "outputs": [
        {
          "output_type": "execute_result",
          "data": {
            "text/plain": [
              "a   -2.180807\n",
              "c   -0.750947\n",
              "c    0.275213\n",
              "dtype: float64"
            ]
          },
          "metadata": {},
          "execution_count": 8
        }
      ]
    },
    {
      "cell_type": "code",
      "metadata": {
        "id": "VefIEpQdFkdm",
        "colab": {
          "base_uri": "https://localhost:8080/"
        },
        "outputId": "3a70bbcf-405a-433a-dddd-077dcf792bbc"
      },
      "source": [
        "s1 = pd.Series(np.random.randn(5), index=['a', 'b', 'c', 'cb', 'e'])\n",
        "s1['a':'ca']"
      ],
      "execution_count": null,
      "outputs": [
        {
          "output_type": "execute_result",
          "data": {
            "text/plain": [
              "a    1.139256\n",
              "b   -1.458200\n",
              "c   -1.382958\n",
              "dtype: float64"
            ]
          },
          "metadata": {},
          "execution_count": 9
        }
      ]
    },
    {
      "cell_type": "code",
      "metadata": {
        "id": "XAU2cLJWFkdn"
      },
      "source": [
        "s1 = pd.Series(np.random.randn(5), index=['a', 'c', 'c', 'ba', 'e'])\n",
        "#print(s1['a':'b'], end = end_string)"
      ],
      "execution_count": null,
      "outputs": []
    },
    {
      "cell_type": "code",
      "metadata": {
        "id": "gz7xqIYLFkdn",
        "colab": {
          "base_uri": "https://localhost:8080/"
        },
        "outputId": "c392055a-b0e7-48e3-d61e-4a8f80b531ec"
      },
      "source": [
        "s > 1"
      ],
      "execution_count": null,
      "outputs": [
        {
          "output_type": "execute_result",
          "data": {
            "text/plain": [
              "a    False\n",
              "b    False\n",
              "c    False\n",
              "d    False\n",
              "e     True\n",
              "dtype: bool"
            ]
          },
          "metadata": {},
          "execution_count": 11
        }
      ]
    },
    {
      "cell_type": "code",
      "metadata": {
        "scrolled": true,
        "id": "RIj9yluvFkdo",
        "colab": {
          "base_uri": "https://localhost:8080/"
        },
        "outputId": "c7bc22c1-6c3a-4899-fed8-de0ee4532669"
      },
      "source": [
        "s> s.mean()"
      ],
      "execution_count": null,
      "outputs": [
        {
          "output_type": "execute_result",
          "data": {
            "text/plain": [
              "a    False\n",
              "b     True\n",
              "c     True\n",
              "d    False\n",
              "e     True\n",
              "dtype: bool"
            ]
          },
          "metadata": {},
          "execution_count": 12
        }
      ]
    },
    {
      "cell_type": "code",
      "metadata": {
        "id": "qIDn5uy2Fkdo",
        "colab": {
          "base_uri": "https://localhost:8080/"
        },
        "outputId": "472558c7-8dcf-426a-c3e3-cc0465acac9a"
      },
      "source": [
        "# conditional max - index with booleans\n",
        "print(s[ s > s.mean()], end = end_string)\n",
        "# elementwise function - vectorization\n",
        "print(np.exp(s), end = end_string)"
      ],
      "execution_count": null,
      "outputs": [
        {
          "output_type": "stream",
          "name": "stdout",
          "text": [
            "b    0.592916\n",
            "c    0.852495\n",
            "e    1.112031\n",
            "dtype: float64\n",
            "--------------------------------------------------\n",
            "a    0.897579\n",
            "b    1.809257\n",
            "c    2.345491\n",
            "d    0.498679\n",
            "e    3.040528\n",
            "dtype: float64\n",
            "--------------------------------------------------\n"
          ]
        }
      ]
    },
    {
      "cell_type": "markdown",
      "metadata": {
        "id": "cM06WsBCFkdp"
      },
      "source": [
        "Series are also like dictionaries - you can access values using index labels"
      ]
    },
    {
      "cell_type": "code",
      "metadata": {
        "id": "apsNCYFUFkdp",
        "colab": {
          "base_uri": "https://localhost:8080/"
        },
        "outputId": "b8840694-7bf2-4d51-d6ec-c7fa374787b0"
      },
      "source": [
        "print(s, end = end_string)\n",
        "print(s['a'], end = end_string)"
      ],
      "execution_count": null,
      "outputs": [
        {
          "output_type": "stream",
          "name": "stdout",
          "text": [
            "a   -0.108054\n",
            "b    0.592916\n",
            "c    0.852495\n",
            "d   -0.695792\n",
            "e    1.112031\n",
            "dtype: float64\n",
            "--------------------------------------------------\n",
            "-0.10805358947974365\n",
            "--------------------------------------------------\n"
          ]
        }
      ]
    },
    {
      "cell_type": "code",
      "metadata": {
        "id": "kpzVAnCiFkdq",
        "colab": {
          "base_uri": "https://localhost:8080/"
        },
        "outputId": "6976f78c-9ec7-4965-b268-6400b26d67ef"
      },
      "source": [
        "s['e'] = 12 # set element using index label\n",
        "print(s, end = end_string)\n",
        "print('f' in s, end = end_string) # check for index label\n",
        "print(s.get('f', None), end = end_string) # get item with index 'f' - if no such item return None\n",
        "print(s.get('e', None), end = end_string)"
      ],
      "execution_count": null,
      "outputs": [
        {
          "output_type": "stream",
          "name": "stdout",
          "text": [
            "a    -0.108054\n",
            "b     0.592916\n",
            "c     0.852495\n",
            "d    -0.695792\n",
            "e    12.000000\n",
            "dtype: float64\n",
            "--------------------------------------------------\n",
            "False\n",
            "--------------------------------------------------\n",
            "None\n",
            "--------------------------------------------------\n",
            "12.0\n",
            "--------------------------------------------------\n"
          ]
        }
      ]
    },
    {
      "cell_type": "markdown",
      "metadata": {
        "id": "HqkmwrUnFkdq"
      },
      "source": [
        "### Series Attributes:\n",
        "\n",
        "- Get the index : \n",
        "```python \n",
        "s.index ``` \n",
        "- Get the values :\n",
        "``` python \n",
        "s.values ``` \n",
        "- Find the shape : \n",
        "``` python \n",
        "s.shape ``` \n",
        "\n",
        "### Series Iteration"
      ]
    },
    {
      "cell_type": "code",
      "metadata": {
        "id": "NFYQxPBaFkdq",
        "colab": {
          "base_uri": "https://localhost:8080/"
        },
        "outputId": "5b28e2f5-f45d-4874-dcc2-762c8f7aa189"
      },
      "source": [
        "a = np.zeros(5)\n",
        "for i in a:\n",
        "    print(i)\n",
        "    "
      ],
      "execution_count": null,
      "outputs": [
        {
          "output_type": "stream",
          "name": "stdout",
          "text": [
            "0.0\n",
            "0.0\n",
            "0.0\n",
            "0.0\n",
            "0.0\n"
          ]
        }
      ]
    },
    {
      "cell_type": "code",
      "metadata": {
        "id": "-oin-XgbFkdr",
        "colab": {
          "base_uri": "https://localhost:8080/"
        },
        "outputId": "61b6af50-b1e9-4b10-d844-f5c9e144d151"
      },
      "source": [
        "for idx,val in s.iteritems():\n",
        "    print(idx,val)"
      ],
      "execution_count": null,
      "outputs": [
        {
          "output_type": "stream",
          "name": "stdout",
          "text": [
            "a -0.10805358947974365\n",
            "b 0.5929161337223743\n",
            "c 0.8524948678209102\n",
            "d -0.6957920015908214\n",
            "e 12.0\n"
          ]
        }
      ]
    },
    {
      "cell_type": "markdown",
      "metadata": {
        "id": "Auu3755HFkdr"
      },
      "source": [
        "Sort by index or by value"
      ]
    },
    {
      "cell_type": "code",
      "metadata": {
        "id": "eNlvh2GOFkdr",
        "colab": {
          "base_uri": "https://localhost:8080/"
        },
        "outputId": "801de08e-3199-46dd-e8a3-25642486ab47"
      },
      "source": [
        "print(s.sort_index(), end = end_string)\n",
        "print(s.sort_values(), end = end_string)"
      ],
      "execution_count": null,
      "outputs": [
        {
          "output_type": "stream",
          "name": "stdout",
          "text": [
            "a    -0.108054\n",
            "b     0.592916\n",
            "c     0.852495\n",
            "d    -0.695792\n",
            "e    12.000000\n",
            "dtype: float64\n",
            "--------------------------------------------------\n",
            "d    -0.695792\n",
            "a    -0.108054\n",
            "b     0.592916\n",
            "c     0.852495\n",
            "e    12.000000\n",
            "dtype: float64\n",
            "--------------------------------------------------\n"
          ]
        }
      ]
    },
    {
      "cell_type": "markdown",
      "metadata": {
        "id": "3Lv5dVHYFkds"
      },
      "source": [
        "Find counts of unique values"
      ]
    },
    {
      "cell_type": "code",
      "metadata": {
        "scrolled": true,
        "id": "cyfv878eFkds",
        "colab": {
          "base_uri": "https://localhost:8080/"
        },
        "outputId": "3953295f-2c97-4d42-83d1-d4eb157e71d0"
      },
      "source": [
        "s = pd.Series([0,0,0,1,1,1,2,2,2,2])\n",
        "sct = s.value_counts()\n",
        "print(sct)"
      ],
      "execution_count": null,
      "outputs": [
        {
          "output_type": "stream",
          "name": "stdout",
          "text": [
            "2    4\n",
            "1    3\n",
            "0    3\n",
            "dtype: int64\n"
          ]
        }
      ]
    },
    {
      "cell_type": "markdown",
      "metadata": {
        "id": "mPvHDY9vFkds"
      },
      "source": [
        "You can do just about anything you can do with a numpy array\n",
        "\n",
        "- Series.mean()\n",
        "- Series.median()\n",
        "- Series.mode()\n",
        "- Series.nsmallest(num)\n",
        "- Series.max ..."
      ]
    },
    {
      "cell_type": "code",
      "metadata": {
        "id": "k3wsIIi8Fkds",
        "colab": {
          "base_uri": "https://localhost:8080/"
        },
        "outputId": "3277b319-baf8-4cfe-e759-880a5c12caa8"
      },
      "source": [
        "print(s.min(),end = end_string)\n",
        "print(s.max(), end = end_string)"
      ],
      "execution_count": null,
      "outputs": [
        {
          "output_type": "stream",
          "name": "stdout",
          "text": [
            "0\n",
            "--------------------------------------------------\n",
            "2\n",
            "--------------------------------------------------\n"
          ]
        }
      ]
    },
    {
      "cell_type": "markdown",
      "metadata": {
        "id": "hiaenl22Fkdt"
      },
      "source": [
        "## Exercise\n",
        "\n",
        "- Consider the series `s` of letters in a sentence.\n",
        "- What is count of each letter in the sentence, output a series which is sorted by the count\n",
        "- Create a list with only the top 5 common letters (not including space)"
      ]
    },
    {
      "cell_type": "code",
      "metadata": {
        "id": "SnZprANEFkdt"
      },
      "source": [
        "s=pd.Series(list(\"Series is a one-dimensional labeled array capable of holding any data type (integers, strings, floating point numbers, Python objects, etc.). The axis labels are collectively referred to as the index.\"))"
      ],
      "execution_count": null,
      "outputs": []
    },
    {
      "cell_type": "markdown",
      "metadata": {
        "id": "FdbzQyV7Fkdt"
      },
      "source": [
        "# DataFrame\n",
        "- DataFrame is a 2-dimensional labeled data structure with columns of potentially different types. You can think of it like a spreadsheet or SQL table, or a dict of Series objects. It is generally the most commonly used pandas object.\n",
        "- You can create a DataFrame from:\n",
        "    - Dict of 1D ndarrays, lists, dicts, or Series\n",
        "    - 2-D numpy array\n",
        "    - A list of dictionaries\n",
        "    - A Series\n",
        "    - Another Dataframe\n",
        "``` python\n",
        "df = pd.DataFrame(data, index = index, columns = columns)\n",
        "```\n",
        "- ```index```/ ``` columns ``` is a list of the row/ column labels. If you pass an index and/ or columns, you are guarenteeing the index and /or column of the df. \n",
        "- If you do not pass anything in, the input will be constructed by \"common sense\" rules\n",
        "\n",
        "[**pandas.DataFrame**](http://pandas.pydata.org/pandas-docs/stable/generated/pandas.DataFrame.html)\n",
        "\n",
        "# DataFrame Creation From dict of series or dicts\n",
        "- The index of the resulting DataFrame will be the union of the indices of the various Series. If there are any nested dicts, these will be first converted to Series. \n",
        "- If no columns are passed, the columns will be the sorted list of dict keys."
      ]
    },
    {
      "cell_type": "code",
      "metadata": {
        "id": "i7WZOM2zFkdt",
        "colab": {
          "base_uri": "https://localhost:8080/"
        },
        "outputId": "1e509db9-016e-4837-9354-9381fac63d00"
      },
      "source": [
        "# Create a dictionary of series\n",
        "d = {'one': pd.Series([1,2,3], index  = ['a', 'b', 'c']), \n",
        "     'two': pd.Series(list(range(4)), index = ['a','b', 'c', 'd'])}\n",
        "df = pd.DataFrame(d)\n",
        "print(df, end = end_string)\n",
        "\n",
        "d= {'one': {'a': 1, 'b': 2, 'c':3}, \n",
        "     'two': pd.Series(list(range(4)), index = ['a','b', 'c', 'd'])}\n",
        "# Columns are dictionary keys, indices and values obtained from series\n",
        "df = pd.DataFrame(d)\n",
        "# Notice how it fills the column one with NaN for d\n",
        "print(df, end = end_string)"
      ],
      "execution_count": null,
      "outputs": [
        {
          "output_type": "stream",
          "name": "stdout",
          "text": [
            "   one  two\n",
            "a  1.0    0\n",
            "b  2.0    1\n",
            "c  3.0    2\n",
            "d  NaN    3\n",
            "--------------------------------------------------\n",
            "   one  two\n",
            "a  1.0    0\n",
            "b  2.0    1\n",
            "c  3.0    2\n",
            "d  NaN    3\n",
            "--------------------------------------------------\n"
          ]
        }
      ]
    },
    {
      "cell_type": "code",
      "metadata": {
        "id": "gH9pTSp8Fkdu",
        "colab": {
          "base_uri": "https://localhost:8080/"
        },
        "outputId": "519e9518-d647-4fac-f597-efc5ebd9ed2e"
      },
      "source": [
        "d = {'one': pd.Series([1,2,3], index  = ['a', 'b', 'c']), \n",
        "     'two': pd.Series(list(range(4)), index = ['a','b', 'c', 'd'])}\n",
        "\n",
        "print(pd.DataFrame(d, index = ['d', 'b', 'a']), end = end_string)\n",
        "print(pd.DataFrame(d, index = ['d', 'b', 'a'], columns = ['two', 'three']),\n",
        "      end = end_string)"
      ],
      "execution_count": null,
      "outputs": [
        {
          "output_type": "stream",
          "name": "stdout",
          "text": [
            "   one  two\n",
            "d  NaN    3\n",
            "b  2.0    1\n",
            "a  1.0    0\n",
            "--------------------------------------------------\n",
            "   two three\n",
            "d    3   NaN\n",
            "b    1   NaN\n",
            "a    0   NaN\n",
            "--------------------------------------------------\n"
          ]
        }
      ]
    },
    {
      "cell_type": "markdown",
      "metadata": {
        "id": "Xni5wueNFkdu"
      },
      "source": [
        "# From dict of ndarray / lists\n",
        "- The ndarrays must all be the same length. \n",
        "- If an index is passed, it must clearly also be the same length as the arrays. If no index is passed, the result will be range(n), where n is the array length."
      ]
    },
    {
      "cell_type": "code",
      "metadata": {
        "id": "wiyokX8lFkdv",
        "colab": {
          "base_uri": "https://localhost:8080/",
          "height": 175
        },
        "outputId": "3bc3d48f-c141-46f5-e9b5-d0c51c8e097f"
      },
      "source": [
        "d = {'one' : [1., 2., 3.,4.], 'two' : [4., 3., 2., 1.]}\n",
        "pd.DataFrame(d)"
      ],
      "execution_count": null,
      "outputs": [
        {
          "output_type": "execute_result",
          "data": {
            "text/html": [
              "<div>\n",
              "<style scoped>\n",
              "    .dataframe tbody tr th:only-of-type {\n",
              "        vertical-align: middle;\n",
              "    }\n",
              "\n",
              "    .dataframe tbody tr th {\n",
              "        vertical-align: top;\n",
              "    }\n",
              "\n",
              "    .dataframe thead th {\n",
              "        text-align: right;\n",
              "    }\n",
              "</style>\n",
              "<table border=\"1\" class=\"dataframe\">\n",
              "  <thead>\n",
              "    <tr style=\"text-align: right;\">\n",
              "      <th></th>\n",
              "      <th>one</th>\n",
              "      <th>two</th>\n",
              "    </tr>\n",
              "  </thead>\n",
              "  <tbody>\n",
              "    <tr>\n",
              "      <th>0</th>\n",
              "      <td>1.0</td>\n",
              "      <td>4.0</td>\n",
              "    </tr>\n",
              "    <tr>\n",
              "      <th>1</th>\n",
              "      <td>2.0</td>\n",
              "      <td>3.0</td>\n",
              "    </tr>\n",
              "    <tr>\n",
              "      <th>2</th>\n",
              "      <td>3.0</td>\n",
              "      <td>2.0</td>\n",
              "    </tr>\n",
              "    <tr>\n",
              "      <th>3</th>\n",
              "      <td>4.0</td>\n",
              "      <td>1.0</td>\n",
              "    </tr>\n",
              "  </tbody>\n",
              "</table>\n",
              "</div>"
            ],
            "text/plain": [
              "   one  two\n",
              "0  1.0  4.0\n",
              "1  2.0  3.0\n",
              "2  3.0  2.0\n",
              "3  4.0  1.0"
            ]
          },
          "metadata": {},
          "execution_count": 24
        }
      ]
    },
    {
      "cell_type": "markdown",
      "metadata": {
        "id": "7fuTw5nuFkdv"
      },
      "source": [
        "# From a list of dicts"
      ]
    },
    {
      "cell_type": "code",
      "metadata": {
        "scrolled": true,
        "id": "jr_YAYFyFkdv",
        "colab": {
          "base_uri": "https://localhost:8080/"
        },
        "outputId": "6ede3be3-9c12-4d55-8cc3-2bc6f521c1c4"
      },
      "source": [
        "data = []\n",
        "for i in range(100):\n",
        "    data += [ {'Column' + str(j):np.random.randint(100) for j in range(5)} ]\n",
        "    # dictionary comprehension!\n",
        "    \n",
        "data[:5]"
      ],
      "execution_count": null,
      "outputs": [
        {
          "output_type": "execute_result",
          "data": {
            "text/plain": [
              "[{'Column0': 45, 'Column1': 50, 'Column2': 61, 'Column3': 81, 'Column4': 87},\n",
              " {'Column0': 28, 'Column1': 81, 'Column2': 99, 'Column3': 72, 'Column4': 0},\n",
              " {'Column0': 60, 'Column1': 10, 'Column2': 80, 'Column3': 76, 'Column4': 96},\n",
              " {'Column0': 59, 'Column1': 63, 'Column2': 21, 'Column3': 51, 'Column4': 48},\n",
              " {'Column0': 96, 'Column1': 39, 'Column2': 81, 'Column3': 87, 'Column4': 1}]"
            ]
          },
          "metadata": {},
          "execution_count": 25
        }
      ]
    },
    {
      "cell_type": "code",
      "metadata": {
        "id": "dC7UBFa0Fkdv",
        "colab": {
          "base_uri": "https://localhost:8080/"
        },
        "outputId": "41b3a861-388f-4bd8-eed5-d237f8d2cd40"
      },
      "source": [
        "# Creation from a list of dicts\n",
        "df = pd.DataFrame(data)\n",
        "print(df.head(), end = end_string)"
      ],
      "execution_count": null,
      "outputs": [
        {
          "output_type": "stream",
          "name": "stdout",
          "text": [
            "   Column0  Column1  Column2  Column3  Column4\n",
            "0       45       50       61       81       87\n",
            "1       28       81       99       72        0\n",
            "2       60       10       80       76       96\n",
            "3       59       63       21       51       48\n",
            "4       96       39       81       87        1\n",
            "--------------------------------------------------\n"
          ]
        }
      ]
    },
    {
      "cell_type": "code",
      "metadata": {
        "id": "5v9eYj8zFkdw",
        "colab": {
          "base_uri": "https://localhost:8080/",
          "height": 206
        },
        "outputId": "2dfc9d5e-8ab7-49a3-e1c0-b3dc7684cc3e"
      },
      "source": [
        "# Only certain columns\n",
        "df = pd.DataFrame(data, columns = ['Column0', 'Column1'])\n",
        "df.head()"
      ],
      "execution_count": null,
      "outputs": [
        {
          "output_type": "execute_result",
          "data": {
            "text/html": [
              "<div>\n",
              "<style scoped>\n",
              "    .dataframe tbody tr th:only-of-type {\n",
              "        vertical-align: middle;\n",
              "    }\n",
              "\n",
              "    .dataframe tbody tr th {\n",
              "        vertical-align: top;\n",
              "    }\n",
              "\n",
              "    .dataframe thead th {\n",
              "        text-align: right;\n",
              "    }\n",
              "</style>\n",
              "<table border=\"1\" class=\"dataframe\">\n",
              "  <thead>\n",
              "    <tr style=\"text-align: right;\">\n",
              "      <th></th>\n",
              "      <th>Column0</th>\n",
              "      <th>Column1</th>\n",
              "    </tr>\n",
              "  </thead>\n",
              "  <tbody>\n",
              "    <tr>\n",
              "      <th>0</th>\n",
              "      <td>45</td>\n",
              "      <td>50</td>\n",
              "    </tr>\n",
              "    <tr>\n",
              "      <th>1</th>\n",
              "      <td>28</td>\n",
              "      <td>81</td>\n",
              "    </tr>\n",
              "    <tr>\n",
              "      <th>2</th>\n",
              "      <td>60</td>\n",
              "      <td>10</td>\n",
              "    </tr>\n",
              "    <tr>\n",
              "      <th>3</th>\n",
              "      <td>59</td>\n",
              "      <td>63</td>\n",
              "    </tr>\n",
              "    <tr>\n",
              "      <th>4</th>\n",
              "      <td>96</td>\n",
              "      <td>39</td>\n",
              "    </tr>\n",
              "  </tbody>\n",
              "</table>\n",
              "</div>"
            ],
            "text/plain": [
              "   Column0  Column1\n",
              "0       45       50\n",
              "1       28       81\n",
              "2       60       10\n",
              "3       59       63\n",
              "4       96       39"
            ]
          },
          "metadata": {},
          "execution_count": 27
        }
      ]
    },
    {
      "cell_type": "markdown",
      "metadata": {
        "id": "Xavz2DpLFkdw"
      },
      "source": [
        "## Attributes\n",
        "\n",
        "- ``` df.index ``` : the row index of df\n",
        "- ``` df.columns ``` : the columns of df\n",
        "- ``` df.shape ``` : the shape of the df\n",
        "- ``` df.values ``` : numpy array of values"
      ]
    },
    {
      "cell_type": "code",
      "metadata": {
        "scrolled": true,
        "id": "MVolHmmFFkdy",
        "colab": {
          "base_uri": "https://localhost:8080/"
        },
        "outputId": "02018ee7-9517-44a3-da5b-5ca7ddc93608"
      },
      "source": [
        "# Adding and accessing columns \n",
        "d = {'one': pd.Series([1,2,3], index  = ['a', 'b', 'c']), \n",
        "     'two': pd.Series(range(4), index = ['a','b', 'c', 'd'])}\n",
        "df = pd.DataFrame(d)\n",
        "# multiply \n",
        "df['three'] =  df['one']*df['two']\n",
        "# Create a boolean flag\n",
        "df['flag'] = df['one'] > 2\n",
        "print(df.head())"
      ],
      "execution_count": null,
      "outputs": [
        {
          "output_type": "stream",
          "name": "stdout",
          "text": [
            "   one  two  three   flag\n",
            "a  1.0    0    0.0  False\n",
            "b  2.0    1    2.0  False\n",
            "c  3.0    2    6.0   True\n",
            "d  NaN    3    NaN  False\n"
          ]
        }
      ]
    },
    {
      "cell_type": "code",
      "metadata": {
        "id": "GaliziVsFkdy",
        "colab": {
          "base_uri": "https://localhost:8080/"
        },
        "outputId": "60964788-0ad0-4236-989f-d2a39bcb8dba"
      },
      "source": [
        "# inserting column in specified location, with values\n",
        "df.insert(1, 'bar', df['one'][:2])\n",
        "print(df.head())"
      ],
      "execution_count": null,
      "outputs": [
        {
          "output_type": "stream",
          "name": "stdout",
          "text": [
            "   one  bar  two  three   flag\n",
            "a  1.0  1.0    0    0.0  False\n",
            "b  2.0  2.0    1    2.0  False\n",
            "c  3.0  NaN    2    6.0   True\n",
            "d  NaN  NaN    3    NaN  False\n"
          ]
        }
      ]
    },
    {
      "cell_type": "code",
      "metadata": {
        "id": "i7Dk2Z1AFkdy",
        "colab": {
          "base_uri": "https://localhost:8080/"
        },
        "outputId": "47581b54-16ce-4109-bd91-c90d9c12aefc"
      },
      "source": [
        "# Deleting Columns  \n",
        "three = df.pop('three')\n",
        "print(df.head(), end = end_string)\n",
        "# Propagation of values\n",
        "df['foo'] = 'bar'\n",
        "print(df, end = end_string)"
      ],
      "execution_count": null,
      "outputs": [
        {
          "output_type": "stream",
          "name": "stdout",
          "text": [
            "   one  bar  two   flag\n",
            "a  1.0  1.0    0  False\n",
            "b  2.0  2.0    1  False\n",
            "c  3.0  NaN    2   True\n",
            "d  NaN  NaN    3  False\n",
            "--------------------------------------------------\n",
            "   one  bar  two   flag  foo\n",
            "a  1.0  1.0    0  False  bar\n",
            "b  2.0  2.0    1  False  bar\n",
            "c  3.0  NaN    2   True  bar\n",
            "d  NaN  NaN    3  False  bar\n",
            "--------------------------------------------------\n"
          ]
        }
      ]
    },
    {
      "cell_type": "code",
      "metadata": {
        "id": "ClARiLUjFkdy",
        "colab": {
          "base_uri": "https://localhost:8080/"
        },
        "outputId": "02c2fcd8-3f6f-49c7-e1bb-33b54af041d8"
      },
      "source": [
        "type(df['one'])"
      ],
      "execution_count": null,
      "outputs": [
        {
          "output_type": "execute_result",
          "data": {
            "text/plain": [
              "pandas.core.series.Series"
            ]
          },
          "metadata": {},
          "execution_count": 31
        }
      ]
    },
    {
      "cell_type": "code",
      "metadata": {
        "id": "wurXYGo3Fkdz",
        "colab": {
          "base_uri": "https://localhost:8080/"
        },
        "outputId": "4e2296ed-c519-4715-e2f8-9c1ec71a9bce"
      },
      "source": [
        "df.loc['a']"
      ],
      "execution_count": null,
      "outputs": [
        {
          "output_type": "execute_result",
          "data": {
            "text/plain": [
              "one         1\n",
              "bar         1\n",
              "two         0\n",
              "flag    False\n",
              "foo       bar\n",
              "Name: a, dtype: object"
            ]
          },
          "metadata": {},
          "execution_count": 32
        }
      ]
    },
    {
      "cell_type": "markdown",
      "metadata": {
        "id": "xLS-UZzKFkdz"
      },
      "source": [
        "## Indexing and Selection \n",
        "\n",
        "- 4 methods ``` [], ix, iloc, loc ```\n",
        "\n",
        "| Operation  | Syntax       | Result | \n",
        "|----|----------------------| ---------------------------|\n",
        "| Select Column | df[col]   |    Series                      |\n",
        "| Select Row by Label | df.loc[label] | Series  |\n",
        "| Select Row by Integer Location | df.iloc[idx] |      Series                    |\n",
        "| Slice rows | df[5:10]        |                        DataFrame  | \n",
        "| Select rows by boolean | df[mask]   | DataFrame        |\n",
        "\n",
        "- Note all the operations below are valid on series as well restricted to one dimension"
      ]
    },
    {
      "cell_type": "markdown",
      "metadata": {
        "id": "8dayac48Fkdz"
      },
      "source": [
        "## Simplest form Of Indexing: []\n",
        "- Series: selecting a label: s[label] \n",
        "- DataFrame: selection single or multiple columns: \n",
        "``` python \n",
        "df['col'] or df[['col1', 'col2']] ``` \n",
        "- DataFrame: slicing the rows:\n",
        "``` python\n",
        "df['rowlabel1': 'rowlabel2'] ``` \n",
        "or \n",
        "``` python \n",
        "df[boolean_mask] ``` "
      ]
    },
    {
      "cell_type": "code",
      "metadata": {
        "id": "ypSxMhO3Fkdz",
        "colab": {
          "base_uri": "https://localhost:8080/"
        },
        "outputId": "12678302-77f6-4f65-b285-de5f7bc7e482"
      },
      "source": [
        "# Lets create a data frame\n",
        "pd.options.display.max_rows = 4\n",
        "dates = pd.date_range('1/1/2000', periods=8)\n",
        "df = pd.DataFrame(np.random.randn(8, 4), index=dates, columns=['A', 'B', 'C','D'])\n",
        "print(df)"
      ],
      "execution_count": null,
      "outputs": [
        {
          "output_type": "stream",
          "name": "stdout",
          "text": [
            "                   A         B         C         D\n",
            "2000-01-01 -0.562819 -0.127597  3.098678 -0.027032\n",
            "2000-01-02 -1.953879  0.326043  0.729338  0.667447\n",
            "...              ...       ...       ...       ...\n",
            "2000-01-07 -0.481789  1.174588 -0.318467 -0.371091\n",
            "2000-01-08  0.305896 -2.373524 -0.137068 -1.730301\n",
            "\n",
            "[8 rows x 4 columns]\n"
          ]
        }
      ]
    },
    {
      "cell_type": "code",
      "metadata": {
        "id": "rMlznlagFkd0"
      },
      "source": [
        "pd.date_range?"
      ],
      "execution_count": null,
      "outputs": []
    },
    {
      "cell_type": "code",
      "metadata": {
        "id": "J62xwdRwFkd0",
        "colab": {
          "base_uri": "https://localhost:8080/"
        },
        "outputId": "eefad32d-647c-494d-acbf-c2441dc9e8e1"
      },
      "source": [
        "# column  'A'\n",
        "df['A']"
      ],
      "execution_count": null,
      "outputs": [
        {
          "output_type": "execute_result",
          "data": {
            "text/plain": [
              "2000-01-01   -0.562819\n",
              "2000-01-02   -1.953879\n",
              "                ...   \n",
              "2000-01-07   -0.481789\n",
              "2000-01-08    0.305896\n",
              "Freq: D, Name: A, Length: 8, dtype: float64"
            ]
          },
          "metadata": {},
          "execution_count": 35
        }
      ]
    },
    {
      "cell_type": "code",
      "metadata": {
        "id": "uoV5_tQ2Fkd0",
        "colab": {
          "base_uri": "https://localhost:8080/"
        },
        "outputId": "0553578d-7db9-45a6-dbb6-1208285f1295"
      },
      "source": [
        "df.loc[:,\"A\":\"B\"]"
      ],
      "execution_count": null,
      "outputs": [
        {
          "output_type": "execute_result",
          "data": {
            "text/html": [
              "<div>\n",
              "<style scoped>\n",
              "    .dataframe tbody tr th:only-of-type {\n",
              "        vertical-align: middle;\n",
              "    }\n",
              "\n",
              "    .dataframe tbody tr th {\n",
              "        vertical-align: top;\n",
              "    }\n",
              "\n",
              "    .dataframe thead th {\n",
              "        text-align: right;\n",
              "    }\n",
              "</style>\n",
              "<table border=\"1\" class=\"dataframe\">\n",
              "  <thead>\n",
              "    <tr style=\"text-align: right;\">\n",
              "      <th></th>\n",
              "      <th>A</th>\n",
              "      <th>B</th>\n",
              "    </tr>\n",
              "  </thead>\n",
              "  <tbody>\n",
              "    <tr>\n",
              "      <th>2000-01-01</th>\n",
              "      <td>-0.562819</td>\n",
              "      <td>-0.127597</td>\n",
              "    </tr>\n",
              "    <tr>\n",
              "      <th>2000-01-02</th>\n",
              "      <td>-1.953879</td>\n",
              "      <td>0.326043</td>\n",
              "    </tr>\n",
              "    <tr>\n",
              "      <th>...</th>\n",
              "      <td>...</td>\n",
              "      <td>...</td>\n",
              "    </tr>\n",
              "    <tr>\n",
              "      <th>2000-01-07</th>\n",
              "      <td>-0.481789</td>\n",
              "      <td>1.174588</td>\n",
              "    </tr>\n",
              "    <tr>\n",
              "      <th>2000-01-08</th>\n",
              "      <td>0.305896</td>\n",
              "      <td>-2.373524</td>\n",
              "    </tr>\n",
              "  </tbody>\n",
              "</table>\n",
              "<p>8 rows × 2 columns</p>\n",
              "</div>"
            ],
            "text/plain": [
              "                   A         B\n",
              "2000-01-01 -0.562819 -0.127597\n",
              "2000-01-02 -1.953879  0.326043\n",
              "...              ...       ...\n",
              "2000-01-07 -0.481789  1.174588\n",
              "2000-01-08  0.305896 -2.373524\n",
              "\n",
              "[8 rows x 2 columns]"
            ]
          },
          "metadata": {},
          "execution_count": 36
        }
      ]
    },
    {
      "cell_type": "code",
      "metadata": {
        "id": "bv9Xe7SLFkd0",
        "colab": {
          "base_uri": "https://localhost:8080/"
        },
        "outputId": "5f673350-34d7-430b-8010-50df69dc6414"
      },
      "source": [
        "# multiple column \n",
        "df[['A', 'B']]"
      ],
      "execution_count": null,
      "outputs": [
        {
          "output_type": "execute_result",
          "data": {
            "text/html": [
              "<div>\n",
              "<style scoped>\n",
              "    .dataframe tbody tr th:only-of-type {\n",
              "        vertical-align: middle;\n",
              "    }\n",
              "\n",
              "    .dataframe tbody tr th {\n",
              "        vertical-align: top;\n",
              "    }\n",
              "\n",
              "    .dataframe thead th {\n",
              "        text-align: right;\n",
              "    }\n",
              "</style>\n",
              "<table border=\"1\" class=\"dataframe\">\n",
              "  <thead>\n",
              "    <tr style=\"text-align: right;\">\n",
              "      <th></th>\n",
              "      <th>A</th>\n",
              "      <th>B</th>\n",
              "    </tr>\n",
              "  </thead>\n",
              "  <tbody>\n",
              "    <tr>\n",
              "      <th>2000-01-01</th>\n",
              "      <td>-0.562819</td>\n",
              "      <td>-0.127597</td>\n",
              "    </tr>\n",
              "    <tr>\n",
              "      <th>2000-01-02</th>\n",
              "      <td>-1.953879</td>\n",
              "      <td>0.326043</td>\n",
              "    </tr>\n",
              "    <tr>\n",
              "      <th>...</th>\n",
              "      <td>...</td>\n",
              "      <td>...</td>\n",
              "    </tr>\n",
              "    <tr>\n",
              "      <th>2000-01-07</th>\n",
              "      <td>-0.481789</td>\n",
              "      <td>1.174588</td>\n",
              "    </tr>\n",
              "    <tr>\n",
              "      <th>2000-01-08</th>\n",
              "      <td>0.305896</td>\n",
              "      <td>-2.373524</td>\n",
              "    </tr>\n",
              "  </tbody>\n",
              "</table>\n",
              "<p>8 rows × 2 columns</p>\n",
              "</div>"
            ],
            "text/plain": [
              "                   A         B\n",
              "2000-01-01 -0.562819 -0.127597\n",
              "2000-01-02 -1.953879  0.326043\n",
              "...              ...       ...\n",
              "2000-01-07 -0.481789  1.174588\n",
              "2000-01-08  0.305896 -2.373524\n",
              "\n",
              "[8 rows x 2 columns]"
            ]
          },
          "metadata": {},
          "execution_count": 37
        }
      ]
    },
    {
      "cell_type": "code",
      "metadata": {
        "id": "bmRWN5M8Fkd0",
        "colab": {
          "base_uri": "https://localhost:8080/"
        },
        "outputId": "d5eaf92a-86df-4ec0-ec8b-fd2af1ab52d9"
      },
      "source": [
        "# slice by rows\n",
        "df['2000-01-01': '2000-01-04']"
      ],
      "execution_count": null,
      "outputs": [
        {
          "output_type": "execute_result",
          "data": {
            "text/html": [
              "<div>\n",
              "<style scoped>\n",
              "    .dataframe tbody tr th:only-of-type {\n",
              "        vertical-align: middle;\n",
              "    }\n",
              "\n",
              "    .dataframe tbody tr th {\n",
              "        vertical-align: top;\n",
              "    }\n",
              "\n",
              "    .dataframe thead th {\n",
              "        text-align: right;\n",
              "    }\n",
              "</style>\n",
              "<table border=\"1\" class=\"dataframe\">\n",
              "  <thead>\n",
              "    <tr style=\"text-align: right;\">\n",
              "      <th></th>\n",
              "      <th>A</th>\n",
              "      <th>B</th>\n",
              "      <th>C</th>\n",
              "      <th>D</th>\n",
              "    </tr>\n",
              "  </thead>\n",
              "  <tbody>\n",
              "    <tr>\n",
              "      <th>2000-01-01</th>\n",
              "      <td>-0.562819</td>\n",
              "      <td>-0.127597</td>\n",
              "      <td>3.098678</td>\n",
              "      <td>-0.027032</td>\n",
              "    </tr>\n",
              "    <tr>\n",
              "      <th>2000-01-02</th>\n",
              "      <td>-1.953879</td>\n",
              "      <td>0.326043</td>\n",
              "      <td>0.729338</td>\n",
              "      <td>0.667447</td>\n",
              "    </tr>\n",
              "    <tr>\n",
              "      <th>2000-01-03</th>\n",
              "      <td>-1.395942</td>\n",
              "      <td>0.445232</td>\n",
              "      <td>-0.960458</td>\n",
              "      <td>-0.826748</td>\n",
              "    </tr>\n",
              "    <tr>\n",
              "      <th>2000-01-04</th>\n",
              "      <td>0.333972</td>\n",
              "      <td>0.344356</td>\n",
              "      <td>-0.737942</td>\n",
              "      <td>1.799853</td>\n",
              "    </tr>\n",
              "  </tbody>\n",
              "</table>\n",
              "</div>"
            ],
            "text/plain": [
              "                   A         B         C         D\n",
              "2000-01-01 -0.562819 -0.127597  3.098678 -0.027032\n",
              "2000-01-02 -1.953879  0.326043  0.729338  0.667447\n",
              "2000-01-03 -1.395942  0.445232 -0.960458 -0.826748\n",
              "2000-01-04  0.333972  0.344356 -0.737942  1.799853"
            ]
          },
          "metadata": {},
          "execution_count": 38
        }
      ]
    },
    {
      "cell_type": "code",
      "metadata": {
        "id": "SnQaEdBYFkd1",
        "colab": {
          "base_uri": "https://localhost:8080/"
        },
        "outputId": "4c1e32ef-54d0-40b6-c47a-58e130dd9929"
      },
      "source": [
        "df['A'] > df['B']"
      ],
      "execution_count": null,
      "outputs": [
        {
          "output_type": "execute_result",
          "data": {
            "text/plain": [
              "2000-01-01    False\n",
              "2000-01-02    False\n",
              "              ...  \n",
              "2000-01-07    False\n",
              "2000-01-08     True\n",
              "Freq: D, Length: 8, dtype: bool"
            ]
          },
          "metadata": {},
          "execution_count": 39
        }
      ]
    },
    {
      "cell_type": "code",
      "metadata": {
        "id": "gOgiKme0Fkd1",
        "colab": {
          "base_uri": "https://localhost:8080/"
        },
        "outputId": "1bdd813b-33fe-4ad0-b5fb-a4367875a19a"
      },
      "source": [
        "# boolean mask \n",
        "df[df['A'] > df['B']].head()"
      ],
      "execution_count": null,
      "outputs": [
        {
          "output_type": "execute_result",
          "data": {
            "text/html": [
              "<div>\n",
              "<style scoped>\n",
              "    .dataframe tbody tr th:only-of-type {\n",
              "        vertical-align: middle;\n",
              "    }\n",
              "\n",
              "    .dataframe tbody tr th {\n",
              "        vertical-align: top;\n",
              "    }\n",
              "\n",
              "    .dataframe thead th {\n",
              "        text-align: right;\n",
              "    }\n",
              "</style>\n",
              "<table border=\"1\" class=\"dataframe\">\n",
              "  <thead>\n",
              "    <tr style=\"text-align: right;\">\n",
              "      <th></th>\n",
              "      <th>A</th>\n",
              "      <th>B</th>\n",
              "      <th>C</th>\n",
              "      <th>D</th>\n",
              "    </tr>\n",
              "  </thead>\n",
              "  <tbody>\n",
              "    <tr>\n",
              "      <th>2000-01-05</th>\n",
              "      <td>-0.751441</td>\n",
              "      <td>-0.811714</td>\n",
              "      <td>-1.562348</td>\n",
              "      <td>0.768273</td>\n",
              "    </tr>\n",
              "    <tr>\n",
              "      <th>2000-01-06</th>\n",
              "      <td>2.801833</td>\n",
              "      <td>-1.070221</td>\n",
              "      <td>1.254203</td>\n",
              "      <td>-1.303577</td>\n",
              "    </tr>\n",
              "    <tr>\n",
              "      <th>2000-01-08</th>\n",
              "      <td>0.305896</td>\n",
              "      <td>-2.373524</td>\n",
              "      <td>-0.137068</td>\n",
              "      <td>-1.730301</td>\n",
              "    </tr>\n",
              "  </tbody>\n",
              "</table>\n",
              "</div>"
            ],
            "text/plain": [
              "                   A         B         C         D\n",
              "2000-01-05 -0.751441 -0.811714 -1.562348  0.768273\n",
              "2000-01-06  2.801833 -1.070221  1.254203 -1.303577\n",
              "2000-01-08  0.305896 -2.373524 -0.137068 -1.730301"
            ]
          },
          "metadata": {},
          "execution_count": 40
        }
      ]
    },
    {
      "cell_type": "code",
      "metadata": {
        "id": "h8p_8v43Fkd1",
        "colab": {
          "base_uri": "https://localhost:8080/"
        },
        "outputId": "e43cc2cd-fe8b-4bd0-96c9-8e021f3c2676"
      },
      "source": [
        "# Assign via []\n",
        "df['A'] = df['B'].values\n",
        "df.head()"
      ],
      "execution_count": null,
      "outputs": [
        {
          "output_type": "execute_result",
          "data": {
            "text/html": [
              "<div>\n",
              "<style scoped>\n",
              "    .dataframe tbody tr th:only-of-type {\n",
              "        vertical-align: middle;\n",
              "    }\n",
              "\n",
              "    .dataframe tbody tr th {\n",
              "        vertical-align: top;\n",
              "    }\n",
              "\n",
              "    .dataframe thead th {\n",
              "        text-align: right;\n",
              "    }\n",
              "</style>\n",
              "<table border=\"1\" class=\"dataframe\">\n",
              "  <thead>\n",
              "    <tr style=\"text-align: right;\">\n",
              "      <th></th>\n",
              "      <th>A</th>\n",
              "      <th>B</th>\n",
              "      <th>C</th>\n",
              "      <th>D</th>\n",
              "    </tr>\n",
              "  </thead>\n",
              "  <tbody>\n",
              "    <tr>\n",
              "      <th>2000-01-01</th>\n",
              "      <td>-0.127597</td>\n",
              "      <td>-0.127597</td>\n",
              "      <td>3.098678</td>\n",
              "      <td>-0.027032</td>\n",
              "    </tr>\n",
              "    <tr>\n",
              "      <th>2000-01-02</th>\n",
              "      <td>0.326043</td>\n",
              "      <td>0.326043</td>\n",
              "      <td>0.729338</td>\n",
              "      <td>0.667447</td>\n",
              "    </tr>\n",
              "    <tr>\n",
              "      <th>...</th>\n",
              "      <td>...</td>\n",
              "      <td>...</td>\n",
              "      <td>...</td>\n",
              "      <td>...</td>\n",
              "    </tr>\n",
              "    <tr>\n",
              "      <th>2000-01-04</th>\n",
              "      <td>0.344356</td>\n",
              "      <td>0.344356</td>\n",
              "      <td>-0.737942</td>\n",
              "      <td>1.799853</td>\n",
              "    </tr>\n",
              "    <tr>\n",
              "      <th>2000-01-05</th>\n",
              "      <td>-0.811714</td>\n",
              "      <td>-0.811714</td>\n",
              "      <td>-1.562348</td>\n",
              "      <td>0.768273</td>\n",
              "    </tr>\n",
              "  </tbody>\n",
              "</table>\n",
              "<p>5 rows × 4 columns</p>\n",
              "</div>"
            ],
            "text/plain": [
              "                   A         B         C         D\n",
              "2000-01-01 -0.127597 -0.127597  3.098678 -0.027032\n",
              "2000-01-02  0.326043  0.326043  0.729338  0.667447\n",
              "...              ...       ...       ...       ...\n",
              "2000-01-04  0.344356  0.344356 -0.737942  1.799853\n",
              "2000-01-05 -0.811714 -0.811714 -1.562348  0.768273\n",
              "\n",
              "[5 rows x 4 columns]"
            ]
          },
          "metadata": {},
          "execution_count": 41
        }
      ]
    },
    {
      "cell_type": "code",
      "metadata": {
        "id": "koUWquWyFkd1",
        "colab": {
          "base_uri": "https://localhost:8080/"
        },
        "outputId": "14c89725-415c-4046-e505-499583ab1da5"
      },
      "source": [
        "### You can also access a column by df.colname\n",
        "df.B"
      ],
      "execution_count": null,
      "outputs": [
        {
          "output_type": "execute_result",
          "data": {
            "text/plain": [
              "2000-01-01   -0.127597\n",
              "2000-01-02    0.326043\n",
              "                ...   \n",
              "2000-01-07    1.174588\n",
              "2000-01-08   -2.373524\n",
              "Freq: D, Name: B, Length: 8, dtype: float64"
            ]
          },
          "metadata": {},
          "execution_count": 42
        }
      ]
    },
    {
      "cell_type": "markdown",
      "metadata": {
        "id": "pfTrLje_Fkd1"
      },
      "source": [
        "## Selecting by label .loc\n",
        "\n",
        "- is primarily label based, but may also be used with a boolean array.\n",
        "- .loc will raise KeyError when the items are not found\n",
        "- Allowed inputs:\n",
        "    1. A single label \n",
        "    2. A list of labels\n",
        "    3. A boolean array"
      ]
    },
    {
      "cell_type": "code",
      "metadata": {
        "id": "7WxzAOguFkd2",
        "colab": {
          "base_uri": "https://localhost:8080/"
        },
        "outputId": "bb23e14b-85e3-464e-91e8-ead912d33d56"
      },
      "source": [
        "## Selection by label .loc\n",
        "df.loc['2000-01-01']"
      ],
      "execution_count": null,
      "outputs": [
        {
          "output_type": "execute_result",
          "data": {
            "text/plain": [
              "A   -0.127597\n",
              "B   -0.127597\n",
              "C    3.098678\n",
              "D   -0.027032\n",
              "Name: 2000-01-01 00:00:00, dtype: float64"
            ]
          },
          "metadata": {},
          "execution_count": 43
        }
      ]
    },
    {
      "cell_type": "code",
      "metadata": {
        "id": "Em6SjlXWFkd2",
        "colab": {
          "base_uri": "https://localhost:8080/"
        },
        "outputId": "4132fcf1-9948-43d8-dd0b-ebccf96abd7f"
      },
      "source": [
        "import numpy.random as rng\n",
        "a = rng.rand(3,4)\n",
        "a"
      ],
      "execution_count": null,
      "outputs": [
        {
          "output_type": "execute_result",
          "data": {
            "text/plain": [
              "array([[0.70634401, 0.70833684, 0.45503761, 0.08287101],\n",
              "       [0.66979884, 0.84093631, 0.10402679, 0.57870699],\n",
              "       [0.38895067, 0.14822452, 0.3756598 , 0.75691337]])"
            ]
          },
          "metadata": {},
          "execution_count": 44
        }
      ]
    },
    {
      "cell_type": "code",
      "metadata": {
        "id": "JoJXuuP6Fkd2",
        "colab": {
          "base_uri": "https://localhost:8080/"
        },
        "outputId": "ec475660-42fd-48aa-c8d6-01b20bdf9f63"
      },
      "source": [
        "a[0]"
      ],
      "execution_count": null,
      "outputs": [
        {
          "output_type": "execute_result",
          "data": {
            "text/plain": [
              "array([0.70634401, 0.70833684, 0.45503761, 0.08287101])"
            ]
          },
          "metadata": {},
          "execution_count": 45
        }
      ]
    },
    {
      "cell_type": "code",
      "metadata": {
        "id": "9lzs9IEXFkd2",
        "colab": {
          "base_uri": "https://localhost:8080/"
        },
        "outputId": "21dda99f-603a-41df-b918-13961ec6256f"
      },
      "source": [
        "df.loc['2000-01-01':'2000-01-03', 'A':'C']"
      ],
      "execution_count": null,
      "outputs": [
        {
          "output_type": "execute_result",
          "data": {
            "text/html": [
              "<div>\n",
              "<style scoped>\n",
              "    .dataframe tbody tr th:only-of-type {\n",
              "        vertical-align: middle;\n",
              "    }\n",
              "\n",
              "    .dataframe tbody tr th {\n",
              "        vertical-align: top;\n",
              "    }\n",
              "\n",
              "    .dataframe thead th {\n",
              "        text-align: right;\n",
              "    }\n",
              "</style>\n",
              "<table border=\"1\" class=\"dataframe\">\n",
              "  <thead>\n",
              "    <tr style=\"text-align: right;\">\n",
              "      <th></th>\n",
              "      <th>A</th>\n",
              "      <th>B</th>\n",
              "      <th>C</th>\n",
              "    </tr>\n",
              "  </thead>\n",
              "  <tbody>\n",
              "    <tr>\n",
              "      <th>2000-01-01</th>\n",
              "      <td>-0.127597</td>\n",
              "      <td>-0.127597</td>\n",
              "      <td>3.098678</td>\n",
              "    </tr>\n",
              "    <tr>\n",
              "      <th>2000-01-02</th>\n",
              "      <td>0.326043</td>\n",
              "      <td>0.326043</td>\n",
              "      <td>0.729338</td>\n",
              "    </tr>\n",
              "    <tr>\n",
              "      <th>2000-01-03</th>\n",
              "      <td>0.445232</td>\n",
              "      <td>0.445232</td>\n",
              "      <td>-0.960458</td>\n",
              "    </tr>\n",
              "  </tbody>\n",
              "</table>\n",
              "</div>"
            ],
            "text/plain": [
              "                   A         B         C\n",
              "2000-01-01 -0.127597 -0.127597  3.098678\n",
              "2000-01-02  0.326043  0.326043  0.729338\n",
              "2000-01-03  0.445232  0.445232 -0.960458"
            ]
          },
          "metadata": {},
          "execution_count": 46
        }
      ]
    },
    {
      "cell_type": "code",
      "metadata": {
        "id": "j3Ma4SrhFkd2",
        "colab": {
          "base_uri": "https://localhost:8080/"
        },
        "outputId": "87fdb333-779f-41cd-cd56-5ae1cf1a5a97"
      },
      "source": [
        "# Get columns for which value is greater than 0 on certain day, get all rows\n",
        "df.loc[:, df.loc['2000-01-01'] > 0]"
      ],
      "execution_count": null,
      "outputs": [
        {
          "output_type": "execute_result",
          "data": {
            "text/html": [
              "<div>\n",
              "<style scoped>\n",
              "    .dataframe tbody tr th:only-of-type {\n",
              "        vertical-align: middle;\n",
              "    }\n",
              "\n",
              "    .dataframe tbody tr th {\n",
              "        vertical-align: top;\n",
              "    }\n",
              "\n",
              "    .dataframe thead th {\n",
              "        text-align: right;\n",
              "    }\n",
              "</style>\n",
              "<table border=\"1\" class=\"dataframe\">\n",
              "  <thead>\n",
              "    <tr style=\"text-align: right;\">\n",
              "      <th></th>\n",
              "      <th>C</th>\n",
              "    </tr>\n",
              "  </thead>\n",
              "  <tbody>\n",
              "    <tr>\n",
              "      <th>2000-01-01</th>\n",
              "      <td>3.098678</td>\n",
              "    </tr>\n",
              "    <tr>\n",
              "      <th>2000-01-02</th>\n",
              "      <td>0.729338</td>\n",
              "    </tr>\n",
              "    <tr>\n",
              "      <th>...</th>\n",
              "      <td>...</td>\n",
              "    </tr>\n",
              "    <tr>\n",
              "      <th>2000-01-07</th>\n",
              "      <td>-0.318467</td>\n",
              "    </tr>\n",
              "    <tr>\n",
              "      <th>2000-01-08</th>\n",
              "      <td>-0.137068</td>\n",
              "    </tr>\n",
              "  </tbody>\n",
              "</table>\n",
              "<p>8 rows × 1 columns</p>\n",
              "</div>"
            ],
            "text/plain": [
              "                   C\n",
              "2000-01-01  3.098678\n",
              "2000-01-02  0.729338\n",
              "...              ...\n",
              "2000-01-07 -0.318467\n",
              "2000-01-08 -0.137068\n",
              "\n",
              "[8 rows x 1 columns]"
            ]
          },
          "metadata": {},
          "execution_count": 47
        }
      ]
    },
    {
      "cell_type": "markdown",
      "metadata": {
        "id": "DxUE-4HcFkd2"
      },
      "source": [
        "## Selecting by position \n",
        "\n",
        "- The .iloc attribute is the primary access method. The following are valid input:\n",
        "    - An integer\n",
        "    - A list of integers\n",
        "    - A slice \n",
        "    - A boolean array"
      ]
    },
    {
      "cell_type": "code",
      "metadata": {
        "id": "9MxaxeB9Fkd3",
        "colab": {
          "base_uri": "https://localhost:8080/"
        },
        "outputId": "c4aaff68-cfc6-4d62-b91a-80bfd36b244b"
      },
      "source": [
        "df1 = pd.DataFrame(np.random.randn(6,4), \n",
        "                   index=list(range(0,12,2)), columns=list(range(0,12,3)))\n",
        "\n",
        "df1"
      ],
      "execution_count": null,
      "outputs": [
        {
          "output_type": "execute_result",
          "data": {
            "text/html": [
              "<div>\n",
              "<style scoped>\n",
              "    .dataframe tbody tr th:only-of-type {\n",
              "        vertical-align: middle;\n",
              "    }\n",
              "\n",
              "    .dataframe tbody tr th {\n",
              "        vertical-align: top;\n",
              "    }\n",
              "\n",
              "    .dataframe thead th {\n",
              "        text-align: right;\n",
              "    }\n",
              "</style>\n",
              "<table border=\"1\" class=\"dataframe\">\n",
              "  <thead>\n",
              "    <tr style=\"text-align: right;\">\n",
              "      <th></th>\n",
              "      <th>0</th>\n",
              "      <th>3</th>\n",
              "      <th>6</th>\n",
              "      <th>9</th>\n",
              "    </tr>\n",
              "  </thead>\n",
              "  <tbody>\n",
              "    <tr>\n",
              "      <th>0</th>\n",
              "      <td>0.527068</td>\n",
              "      <td>-0.609332</td>\n",
              "      <td>0.103919</td>\n",
              "      <td>0.144454</td>\n",
              "    </tr>\n",
              "    <tr>\n",
              "      <th>2</th>\n",
              "      <td>-0.032209</td>\n",
              "      <td>0.075206</td>\n",
              "      <td>-0.437551</td>\n",
              "      <td>-0.214312</td>\n",
              "    </tr>\n",
              "    <tr>\n",
              "      <th>...</th>\n",
              "      <td>...</td>\n",
              "      <td>...</td>\n",
              "      <td>...</td>\n",
              "      <td>...</td>\n",
              "    </tr>\n",
              "    <tr>\n",
              "      <th>8</th>\n",
              "      <td>-0.046727</td>\n",
              "      <td>-0.068921</td>\n",
              "      <td>-0.664007</td>\n",
              "      <td>0.462556</td>\n",
              "    </tr>\n",
              "    <tr>\n",
              "      <th>10</th>\n",
              "      <td>1.757389</td>\n",
              "      <td>1.762683</td>\n",
              "      <td>-1.119766</td>\n",
              "      <td>-1.752592</td>\n",
              "    </tr>\n",
              "  </tbody>\n",
              "</table>\n",
              "<p>6 rows × 4 columns</p>\n",
              "</div>"
            ],
            "text/plain": [
              "           0         3         6         9\n",
              "0   0.527068 -0.609332  0.103919  0.144454\n",
              "2  -0.032209  0.075206 -0.437551 -0.214312\n",
              "..       ...       ...       ...       ...\n",
              "8  -0.046727 -0.068921 -0.664007  0.462556\n",
              "10  1.757389  1.762683 -1.119766 -1.752592\n",
              "\n",
              "[6 rows x 4 columns]"
            ]
          },
          "metadata": {},
          "execution_count": 48
        }
      ]
    },
    {
      "cell_type": "code",
      "metadata": {
        "id": "6R0zMVeSFkd3",
        "colab": {
          "base_uri": "https://localhost:8080/"
        },
        "outputId": "84f66639-9152-43c4-dbab-e4cfc0b884a3"
      },
      "source": [
        "# rows 0-2\n",
        "df1.iloc[:3]"
      ],
      "execution_count": null,
      "outputs": [
        {
          "output_type": "execute_result",
          "data": {
            "text/html": [
              "<div>\n",
              "<style scoped>\n",
              "    .dataframe tbody tr th:only-of-type {\n",
              "        vertical-align: middle;\n",
              "    }\n",
              "\n",
              "    .dataframe tbody tr th {\n",
              "        vertical-align: top;\n",
              "    }\n",
              "\n",
              "    .dataframe thead th {\n",
              "        text-align: right;\n",
              "    }\n",
              "</style>\n",
              "<table border=\"1\" class=\"dataframe\">\n",
              "  <thead>\n",
              "    <tr style=\"text-align: right;\">\n",
              "      <th></th>\n",
              "      <th>0</th>\n",
              "      <th>3</th>\n",
              "      <th>6</th>\n",
              "      <th>9</th>\n",
              "    </tr>\n",
              "  </thead>\n",
              "  <tbody>\n",
              "    <tr>\n",
              "      <th>0</th>\n",
              "      <td>0.527068</td>\n",
              "      <td>-0.609332</td>\n",
              "      <td>0.103919</td>\n",
              "      <td>0.144454</td>\n",
              "    </tr>\n",
              "    <tr>\n",
              "      <th>2</th>\n",
              "      <td>-0.032209</td>\n",
              "      <td>0.075206</td>\n",
              "      <td>-0.437551</td>\n",
              "      <td>-0.214312</td>\n",
              "    </tr>\n",
              "    <tr>\n",
              "      <th>4</th>\n",
              "      <td>0.591335</td>\n",
              "      <td>0.310230</td>\n",
              "      <td>-0.695969</td>\n",
              "      <td>0.383821</td>\n",
              "    </tr>\n",
              "  </tbody>\n",
              "</table>\n",
              "</div>"
            ],
            "text/plain": [
              "          0         3         6         9\n",
              "0  0.527068 -0.609332  0.103919  0.144454\n",
              "2 -0.032209  0.075206 -0.437551 -0.214312\n",
              "4  0.591335  0.310230 -0.695969  0.383821"
            ]
          },
          "metadata": {},
          "execution_count": 49
        }
      ]
    },
    {
      "cell_type": "code",
      "metadata": {
        "id": "K3l-j2MQFkd3",
        "colab": {
          "base_uri": "https://localhost:8080/"
        },
        "outputId": "2844642a-334e-460c-9806-45db50bc85c2"
      },
      "source": [
        "#  rows 1:5  and columns 2 : 4\n",
        "df1.iloc[1:5, 2:4]"
      ],
      "execution_count": null,
      "outputs": [
        {
          "output_type": "execute_result",
          "data": {
            "text/html": [
              "<div>\n",
              "<style scoped>\n",
              "    .dataframe tbody tr th:only-of-type {\n",
              "        vertical-align: middle;\n",
              "    }\n",
              "\n",
              "    .dataframe tbody tr th {\n",
              "        vertical-align: top;\n",
              "    }\n",
              "\n",
              "    .dataframe thead th {\n",
              "        text-align: right;\n",
              "    }\n",
              "</style>\n",
              "<table border=\"1\" class=\"dataframe\">\n",
              "  <thead>\n",
              "    <tr style=\"text-align: right;\">\n",
              "      <th></th>\n",
              "      <th>6</th>\n",
              "      <th>9</th>\n",
              "    </tr>\n",
              "  </thead>\n",
              "  <tbody>\n",
              "    <tr>\n",
              "      <th>2</th>\n",
              "      <td>-0.437551</td>\n",
              "      <td>-0.214312</td>\n",
              "    </tr>\n",
              "    <tr>\n",
              "      <th>4</th>\n",
              "      <td>-0.695969</td>\n",
              "      <td>0.383821</td>\n",
              "    </tr>\n",
              "    <tr>\n",
              "      <th>6</th>\n",
              "      <td>1.124783</td>\n",
              "      <td>-0.801411</td>\n",
              "    </tr>\n",
              "    <tr>\n",
              "      <th>8</th>\n",
              "      <td>-0.664007</td>\n",
              "      <td>0.462556</td>\n",
              "    </tr>\n",
              "  </tbody>\n",
              "</table>\n",
              "</div>"
            ],
            "text/plain": [
              "          6         9\n",
              "2 -0.437551 -0.214312\n",
              "4 -0.695969  0.383821\n",
              "6  1.124783 -0.801411\n",
              "8 -0.664007  0.462556"
            ]
          },
          "metadata": {},
          "execution_count": 50
        }
      ]
    },
    {
      "cell_type": "code",
      "metadata": {
        "id": "U2p4U7N9Fkd3",
        "colab": {
          "base_uri": "https://localhost:8080/"
        },
        "outputId": "78935218-7994-414b-8751-d216d6520700"
      },
      "source": [
        "# select via integer list\n",
        "df1.iloc[[1,3,5], [1,3]]"
      ],
      "execution_count": null,
      "outputs": [
        {
          "output_type": "execute_result",
          "data": {
            "text/html": [
              "<div>\n",
              "<style scoped>\n",
              "    .dataframe tbody tr th:only-of-type {\n",
              "        vertical-align: middle;\n",
              "    }\n",
              "\n",
              "    .dataframe tbody tr th {\n",
              "        vertical-align: top;\n",
              "    }\n",
              "\n",
              "    .dataframe thead th {\n",
              "        text-align: right;\n",
              "    }\n",
              "</style>\n",
              "<table border=\"1\" class=\"dataframe\">\n",
              "  <thead>\n",
              "    <tr style=\"text-align: right;\">\n",
              "      <th></th>\n",
              "      <th>3</th>\n",
              "      <th>9</th>\n",
              "    </tr>\n",
              "  </thead>\n",
              "  <tbody>\n",
              "    <tr>\n",
              "      <th>2</th>\n",
              "      <td>0.075206</td>\n",
              "      <td>-0.214312</td>\n",
              "    </tr>\n",
              "    <tr>\n",
              "      <th>6</th>\n",
              "      <td>-0.810042</td>\n",
              "      <td>-0.801411</td>\n",
              "    </tr>\n",
              "    <tr>\n",
              "      <th>10</th>\n",
              "      <td>1.762683</td>\n",
              "      <td>-1.752592</td>\n",
              "    </tr>\n",
              "  </tbody>\n",
              "</table>\n",
              "</div>"
            ],
            "text/plain": [
              "           3         9\n",
              "2   0.075206 -0.214312\n",
              "6  -0.810042 -0.801411\n",
              "10  1.762683 -1.752592"
            ]
          },
          "metadata": {},
          "execution_count": 51
        }
      ]
    },
    {
      "cell_type": "code",
      "metadata": {
        "id": "3sFab5RZFkd3",
        "colab": {
          "base_uri": "https://localhost:8080/"
        },
        "outputId": "6fa30de5-de6e-4eea-88d9-26162e87093c"
      },
      "source": [
        "# selecting via integer mask \n",
        "boolean_mask = df1.iloc[:, 1] > 0.0\n",
        "df1.iloc[boolean_mask.values,1]"
      ],
      "execution_count": null,
      "outputs": [
        {
          "output_type": "execute_result",
          "data": {
            "text/plain": [
              "2     0.075206\n",
              "4     0.310230\n",
              "10    1.762683\n",
              "Name: 3, dtype: float64"
            ]
          },
          "metadata": {},
          "execution_count": 52
        }
      ]
    },
    {
      "cell_type": "markdown",
      "metadata": {
        "id": "5AbZyZFrFkd3"
      },
      "source": [
        "### Exercise\n",
        "\n",
        "Given the dataframe, find the following\n",
        "- Last two rows of columns A and D\n",
        "- Last three rows such which statisfy that column A > Column B"
      ]
    },
    {
      "cell_type": "code",
      "metadata": {
        "id": "HS4AJ9oDFkd5",
        "colab": {
          "base_uri": "https://localhost:8080/"
        },
        "outputId": "bcc5e033-8e41-47a7-df2a-748da597aabb"
      },
      "source": [
        "dates = pd.date_range('1/1/2000', periods=8)\n",
        "df = pd.DataFrame(np.random.randn(8, 4), index=dates, columns=['A', 'B', 'C','D'])\n",
        "df"
      ],
      "execution_count": null,
      "outputs": [
        {
          "output_type": "execute_result",
          "data": {
            "text/html": [
              "<div>\n",
              "<style scoped>\n",
              "    .dataframe tbody tr th:only-of-type {\n",
              "        vertical-align: middle;\n",
              "    }\n",
              "\n",
              "    .dataframe tbody tr th {\n",
              "        vertical-align: top;\n",
              "    }\n",
              "\n",
              "    .dataframe thead th {\n",
              "        text-align: right;\n",
              "    }\n",
              "</style>\n",
              "<table border=\"1\" class=\"dataframe\">\n",
              "  <thead>\n",
              "    <tr style=\"text-align: right;\">\n",
              "      <th></th>\n",
              "      <th>A</th>\n",
              "      <th>B</th>\n",
              "      <th>C</th>\n",
              "      <th>D</th>\n",
              "    </tr>\n",
              "  </thead>\n",
              "  <tbody>\n",
              "    <tr>\n",
              "      <th>2000-01-01</th>\n",
              "      <td>1.951628</td>\n",
              "      <td>0.882418</td>\n",
              "      <td>-0.815142</td>\n",
              "      <td>0.673432</td>\n",
              "    </tr>\n",
              "    <tr>\n",
              "      <th>2000-01-02</th>\n",
              "      <td>0.043936</td>\n",
              "      <td>-0.479837</td>\n",
              "      <td>0.191864</td>\n",
              "      <td>-1.526051</td>\n",
              "    </tr>\n",
              "    <tr>\n",
              "      <th>...</th>\n",
              "      <td>...</td>\n",
              "      <td>...</td>\n",
              "      <td>...</td>\n",
              "      <td>...</td>\n",
              "    </tr>\n",
              "    <tr>\n",
              "      <th>2000-01-07</th>\n",
              "      <td>0.527537</td>\n",
              "      <td>-1.277851</td>\n",
              "      <td>-0.088037</td>\n",
              "      <td>0.465249</td>\n",
              "    </tr>\n",
              "    <tr>\n",
              "      <th>2000-01-08</th>\n",
              "      <td>1.994612</td>\n",
              "      <td>-1.462887</td>\n",
              "      <td>-0.465025</td>\n",
              "      <td>-0.764241</td>\n",
              "    </tr>\n",
              "  </tbody>\n",
              "</table>\n",
              "<p>8 rows × 4 columns</p>\n",
              "</div>"
            ],
            "text/plain": [
              "                   A         B         C         D\n",
              "2000-01-01  1.951628  0.882418 -0.815142  0.673432\n",
              "2000-01-02  0.043936 -0.479837  0.191864 -1.526051\n",
              "...              ...       ...       ...       ...\n",
              "2000-01-07  0.527537 -1.277851 -0.088037  0.465249\n",
              "2000-01-08  1.994612 -1.462887 -0.465025 -0.764241\n",
              "\n",
              "[8 rows x 4 columns]"
            ]
          },
          "metadata": {},
          "execution_count": 53
        }
      ]
    },
    {
      "cell_type": "markdown",
      "metadata": {
        "id": "1E69q9NHFkd5"
      },
      "source": [
        "# Merging DataFrames\n",
        "\n",
        "- Pandas has full-featured, very high performance, in memory join operations that are very similar to SQL and R \n",
        "\n",
        "- The documentation is https://pandas.pydata.org/pandas-docs/stable/merging.html#database-style-dataframe-joining-merging\n",
        "\n",
        "- Pandas provides a single function, merge, as the entry point for all standard database join operations between DataFrame objects: \n",
        "``` python\n",
        "pd.merge(left, right, how='inner', on=None, left_on=None, right_on=None,\n",
        "left_index=False, right_index=False, sort=True) ```\n"
      ]
    },
    {
      "cell_type": "markdown",
      "metadata": {
        "id": "zjf-1J8EFkd5"
      },
      "source": [
        "The sequence of operations in a basic call to `pd.merge()` is:\n",
        "\n",
        "1. Check all columns in `left` and `right`. Let S be the set of columns which are present in both \n",
        "2. For every row of `left`, check if it has a corresponding row in `right` with the same values among the columns in S. \n",
        "3. If two matching rows are found, merge the rows together in the natural way.\n",
        "\n",
        "The `how` parameter determines how Pandas will deal with the rows that don't match."
      ]
    },
    {
      "cell_type": "code",
      "metadata": {
        "id": "vB3LCwDQFkd6",
        "colab": {
          "base_uri": "https://localhost:8080/"
        },
        "outputId": "a96554d1-9614-4a68-deb6-358172eb4cd2"
      },
      "source": [
        "# Example of merge\n",
        "left = pd.DataFrame({'key': ['foo', 'bar'], 'lval': [4, 2]})\n",
        "right = pd.DataFrame({'key': ['bar', 'zoo'], 'rval': [4, 5]})\n",
        "\n",
        "print(\"left: \",left,\"right: \",right, sep=end_string)"
      ],
      "execution_count": null,
      "outputs": [
        {
          "output_type": "stream",
          "name": "stdout",
          "text": [
            "left: \n",
            "--------------------------------------------------\n",
            "   key  lval\n",
            "0  foo     4\n",
            "1  bar     2\n",
            "--------------------------------------------------\n",
            "right: \n",
            "--------------------------------------------------\n",
            "   key  rval\n",
            "0  bar     4\n",
            "1  zoo     5\n"
          ]
        }
      ]
    },
    {
      "cell_type": "code",
      "metadata": {
        "id": "f-kWBal5Fkd6",
        "colab": {
          "base_uri": "https://localhost:8080/"
        },
        "outputId": "4fb9e973-98d7-47b3-dda7-74f822ccab1a"
      },
      "source": [
        "merged = pd.merge(left, right, how=\"inner\")\n",
        "print(merged)\n",
        "#inner ignores all rows in left which don't have a match in right (and vice versa)"
      ],
      "execution_count": null,
      "outputs": [
        {
          "output_type": "stream",
          "name": "stdout",
          "text": [
            "   key  lval  rval\n",
            "0  bar     2     4\n"
          ]
        }
      ]
    },
    {
      "cell_type": "code",
      "metadata": {
        "id": "l2Nsv7EPFkd6",
        "colab": {
          "base_uri": "https://localhost:8080/"
        },
        "outputId": "5c731b3e-64ef-44cd-c931-fe51995a20f1"
      },
      "source": [
        "merged = pd.merge(left, right, how=\"outer\")\n",
        "print(merged)\n",
        "#outer keeps all rows which don't have a match, filling missing entries with NaN"
      ],
      "execution_count": null,
      "outputs": [
        {
          "output_type": "stream",
          "name": "stdout",
          "text": [
            "   key  lval  rval\n",
            "0  foo   4.0   NaN\n",
            "1  bar   2.0   4.0\n",
            "2  zoo   NaN   5.0\n"
          ]
        }
      ]
    },
    {
      "cell_type": "code",
      "metadata": {
        "id": "9JPVSqH3Fkd6",
        "colab": {
          "base_uri": "https://localhost:8080/"
        },
        "outputId": "b6915589-ed50-49c1-e5f1-09f888f4ead8"
      },
      "source": [
        "merged = pd.merge(left, right, how=\"left\")\n",
        "print(merged)\n",
        "#left keeps all rows in `left` if they don't have a match, but ignores rows in right if they don't match"
      ],
      "execution_count": null,
      "outputs": [
        {
          "output_type": "stream",
          "name": "stdout",
          "text": [
            "   key  lval  rval\n",
            "0  foo     4   NaN\n",
            "1  bar     2   4.0\n"
          ]
        }
      ]
    },
    {
      "cell_type": "code",
      "metadata": {
        "id": "mFLyE8dwFkd7",
        "colab": {
          "base_uri": "https://localhost:8080/"
        },
        "outputId": "f77d4b94-8488-4956-bcd2-7e05e58faf85"
      },
      "source": [
        "merged = pd.merge(left, right, how=\"right\")\n",
        "print(merged)\n",
        "#right does the same thing as left but on the `right` df"
      ],
      "execution_count": null,
      "outputs": [
        {
          "output_type": "stream",
          "name": "stdout",
          "text": [
            "   key  lval  rval\n",
            "0  bar   2.0     4\n",
            "1  zoo   NaN     5\n"
          ]
        }
      ]
    },
    {
      "cell_type": "code",
      "metadata": {
        "id": "_JkoocN7Fkd7",
        "colab": {
          "base_uri": "https://localhost:8080/"
        },
        "outputId": "65630234-2333-44c2-e367-ee0331675dc3"
      },
      "source": [
        "#the 'on' keyword specifies which columns to check for matches. By default .merge checks all shared columns\n",
        "left['shared'] = 1 \n",
        "right['shared'] = 2\n",
        "print(left,end=end_string)\n",
        "print('\\n')\n",
        "print(right,end=end_string)\n",
        "merged = pd.merge(left, right, how=\"inner\",on=\"key\")\n",
        "print(merged,end=end_string)\n",
        "#this now merges based on 'key' only. \n",
        "right['shared'] = 1\n",
        "merged = pd.merge(left, right, how=\"inner\", on = ['key','shared'])\n",
        "print(merged)"
      ],
      "execution_count": null,
      "outputs": [
        {
          "output_type": "stream",
          "name": "stdout",
          "text": [
            "   key  lval  shared\n",
            "0  foo     4       1\n",
            "1  bar     2       1\n",
            "--------------------------------------------------\n",
            "\n",
            "\n",
            "   key  rval  shared\n",
            "0  bar     4       2\n",
            "1  zoo     5       2\n",
            "--------------------------------------------------\n",
            "   key  lval  shared_x  rval  shared_y\n",
            "0  bar     2         1     4         2\n",
            "--------------------------------------------------\n",
            "   key  lval  shared  rval\n",
            "0  bar     2       1     4\n"
          ]
        }
      ]
    },
    {
      "cell_type": "markdown",
      "metadata": {
        "id": "rGL8CBdhFkd7"
      },
      "source": [
        "`on_left` and `on_right` lets us merge based on columns which have different names in `left` and `right` (they need to be of the same type though)"
      ]
    },
    {
      "cell_type": "code",
      "metadata": {
        "id": "8WoVjd3bFkd7",
        "colab": {
          "base_uri": "https://localhost:8080/",
          "height": 175
        },
        "outputId": "ef224954-1db9-487b-fa17-ebf6c9d798ce"
      },
      "source": [
        "left = pd.DataFrame({'key': ['test', 'test'], 'lval': [4, 2]})\n",
        "right = pd.DataFrame({'key': ['test', 'test'], 'rval': [4, 5]})\n",
        "pd.merge(left,right)\n",
        "#gives all pairs of rows"
      ],
      "execution_count": null,
      "outputs": [
        {
          "output_type": "execute_result",
          "data": {
            "text/html": [
              "<div>\n",
              "<style scoped>\n",
              "    .dataframe tbody tr th:only-of-type {\n",
              "        vertical-align: middle;\n",
              "    }\n",
              "\n",
              "    .dataframe tbody tr th {\n",
              "        vertical-align: top;\n",
              "    }\n",
              "\n",
              "    .dataframe thead th {\n",
              "        text-align: right;\n",
              "    }\n",
              "</style>\n",
              "<table border=\"1\" class=\"dataframe\">\n",
              "  <thead>\n",
              "    <tr style=\"text-align: right;\">\n",
              "      <th></th>\n",
              "      <th>key</th>\n",
              "      <th>lval</th>\n",
              "      <th>rval</th>\n",
              "    </tr>\n",
              "  </thead>\n",
              "  <tbody>\n",
              "    <tr>\n",
              "      <th>0</th>\n",
              "      <td>test</td>\n",
              "      <td>4</td>\n",
              "      <td>4</td>\n",
              "    </tr>\n",
              "    <tr>\n",
              "      <th>1</th>\n",
              "      <td>test</td>\n",
              "      <td>4</td>\n",
              "      <td>5</td>\n",
              "    </tr>\n",
              "    <tr>\n",
              "      <th>2</th>\n",
              "      <td>test</td>\n",
              "      <td>2</td>\n",
              "      <td>4</td>\n",
              "    </tr>\n",
              "    <tr>\n",
              "      <th>3</th>\n",
              "      <td>test</td>\n",
              "      <td>2</td>\n",
              "      <td>5</td>\n",
              "    </tr>\n",
              "  </tbody>\n",
              "</table>\n",
              "</div>"
            ],
            "text/plain": [
              "    key  lval  rval\n",
              "0  test     4     4\n",
              "1  test     4     5\n",
              "2  test     2     4\n",
              "3  test     2     5"
            ]
          },
          "metadata": {},
          "execution_count": 60
        }
      ]
    },
    {
      "cell_type": "markdown",
      "metadata": {
        "id": "KDarcsG9Fkd8"
      },
      "source": [
        "## Function Application\n",
        " - Row or Column-wise Function Application: Applies function along input axis of DataFrame\n",
        "```python \n",
        "df.apply(func, axis = 0) ``` \n",
        " - Elementwise: apply the function to every element in the df \n",
        " ```python \n",
        "df.applymap(func) ``` \n",
        "\n",
        "- Note, ``` applymap ``` is equivalent to the ``` map ``` function on lists. \n",
        "- Note, ``` Series ``` objects support ``` .map ``` instead of ``` applymap ```"
      ]
    },
    {
      "cell_type": "code",
      "metadata": {
        "id": "1mWa8C56Fkd8",
        "colab": {
          "base_uri": "https://localhost:8080/"
        },
        "outputId": "872d3faa-5fe7-4b79-c8b8-0edc672a154c"
      },
      "source": [
        "## APPLY EXAMPLES\n",
        "df1 = pd.DataFrame(np.random.randn(6,4), index=list(range(0,12,2)), columns=list('abcd'))\n",
        "df1"
      ],
      "execution_count": null,
      "outputs": [
        {
          "output_type": "execute_result",
          "data": {
            "text/html": [
              "<div>\n",
              "<style scoped>\n",
              "    .dataframe tbody tr th:only-of-type {\n",
              "        vertical-align: middle;\n",
              "    }\n",
              "\n",
              "    .dataframe tbody tr th {\n",
              "        vertical-align: top;\n",
              "    }\n",
              "\n",
              "    .dataframe thead th {\n",
              "        text-align: right;\n",
              "    }\n",
              "</style>\n",
              "<table border=\"1\" class=\"dataframe\">\n",
              "  <thead>\n",
              "    <tr style=\"text-align: right;\">\n",
              "      <th></th>\n",
              "      <th>a</th>\n",
              "      <th>b</th>\n",
              "      <th>c</th>\n",
              "      <th>d</th>\n",
              "    </tr>\n",
              "  </thead>\n",
              "  <tbody>\n",
              "    <tr>\n",
              "      <th>0</th>\n",
              "      <td>1.598576</td>\n",
              "      <td>0.206923</td>\n",
              "      <td>1.300497</td>\n",
              "      <td>1.808457</td>\n",
              "    </tr>\n",
              "    <tr>\n",
              "      <th>2</th>\n",
              "      <td>-1.201665</td>\n",
              "      <td>-1.128152</td>\n",
              "      <td>-0.583071</td>\n",
              "      <td>-0.232376</td>\n",
              "    </tr>\n",
              "    <tr>\n",
              "      <th>...</th>\n",
              "      <td>...</td>\n",
              "      <td>...</td>\n",
              "      <td>...</td>\n",
              "      <td>...</td>\n",
              "    </tr>\n",
              "    <tr>\n",
              "      <th>8</th>\n",
              "      <td>2.078587</td>\n",
              "      <td>0.266946</td>\n",
              "      <td>1.486138</td>\n",
              "      <td>1.900750</td>\n",
              "    </tr>\n",
              "    <tr>\n",
              "      <th>10</th>\n",
              "      <td>0.561665</td>\n",
              "      <td>1.227079</td>\n",
              "      <td>-1.244472</td>\n",
              "      <td>-0.297310</td>\n",
              "    </tr>\n",
              "  </tbody>\n",
              "</table>\n",
              "<p>6 rows × 4 columns</p>\n",
              "</div>"
            ],
            "text/plain": [
              "           a         b         c         d\n",
              "0   1.598576  0.206923  1.300497  1.808457\n",
              "2  -1.201665 -1.128152 -0.583071 -0.232376\n",
              "..       ...       ...       ...       ...\n",
              "8   2.078587  0.266946  1.486138  1.900750\n",
              "10  0.561665  1.227079 -1.244472 -0.297310\n",
              "\n",
              "[6 rows x 4 columns]"
            ]
          },
          "metadata": {},
          "execution_count": 61
        }
      ]
    },
    {
      "cell_type": "code",
      "metadata": {
        "id": "Y65CR4k3Fkd8",
        "colab": {
          "base_uri": "https://localhost:8080/"
        },
        "outputId": "f7d06b82-4173-4ca7-8b96-c2d1fdd79c66"
      },
      "source": [
        "# Apply to each column\n",
        "df1.apply(np.mean)"
      ],
      "execution_count": null,
      "outputs": [
        {
          "output_type": "execute_result",
          "data": {
            "text/plain": [
              "a    0.754140\n",
              "b    0.173498\n",
              "c    0.365980\n",
              "d    0.662817\n",
              "dtype: float64"
            ]
          },
          "metadata": {},
          "execution_count": 62
        }
      ]
    },
    {
      "cell_type": "code",
      "metadata": {
        "id": "pb_J-Uw1Fkd8",
        "colab": {
          "base_uri": "https://localhost:8080/"
        },
        "outputId": "9185a961-b3c4-4e31-89b4-31e2a639785f"
      },
      "source": [
        "# Apply to each row\n",
        "df1.apply(np.mean, axis = 1)"
      ],
      "execution_count": null,
      "outputs": [
        {
          "output_type": "execute_result",
          "data": {
            "text/plain": [
              "0     1.228613\n",
              "2    -0.786316\n",
              "        ...   \n",
              "8     1.433105\n",
              "10    0.061740\n",
              "Length: 6, dtype: float64"
            ]
          },
          "metadata": {},
          "execution_count": 63
        }
      ]
    },
    {
      "cell_type": "markdown",
      "metadata": {
        "id": "T93i-oYcFkd9"
      },
      "source": [
        "### Side note: lambda functions\n",
        "\n",
        "lambda functions allow you to specify a function without giving it a separate declaration.  For example, the function \n",
        "```python\n",
        "lambda x: (x - x.mean())/x.std()\n",
        "```\n",
        "is equivalent to the function\n",
        "```python\n",
        "def normalize(x):\n",
        "    return (x - x.mean())/x.std()\n",
        "```\n",
        "You'll often see lambda functions used in list comprehensions, or in methods (like `map()`, `apply()`, or `applymap()`) that take a function as input."
      ]
    },
    {
      "cell_type": "code",
      "metadata": {
        "id": "CVZWOeLGFkd9",
        "colab": {
          "base_uri": "https://localhost:8080/"
        },
        "outputId": "375d65de-eb48-4f4a-dd1d-26c27147795f"
      },
      "source": [
        "# # Use lambda functions  to normalize columns\n",
        "df1 = df1.apply(lambda x: (x - x.mean())/ x.std(), axis = 0)\n",
        "df1"
      ],
      "execution_count": null,
      "outputs": [
        {
          "output_type": "execute_result",
          "data": {
            "text/html": [
              "<div>\n",
              "<style scoped>\n",
              "    .dataframe tbody tr th:only-of-type {\n",
              "        vertical-align: middle;\n",
              "    }\n",
              "\n",
              "    .dataframe tbody tr th {\n",
              "        vertical-align: top;\n",
              "    }\n",
              "\n",
              "    .dataframe thead th {\n",
              "        text-align: right;\n",
              "    }\n",
              "</style>\n",
              "<table border=\"1\" class=\"dataframe\">\n",
              "  <thead>\n",
              "    <tr style=\"text-align: right;\">\n",
              "      <th></th>\n",
              "      <th>a</th>\n",
              "      <th>b</th>\n",
              "      <th>c</th>\n",
              "      <th>d</th>\n",
              "    </tr>\n",
              "  </thead>\n",
              "  <tbody>\n",
              "    <tr>\n",
              "      <th>0</th>\n",
              "      <td>0.746990</td>\n",
              "      <td>0.028519</td>\n",
              "      <td>0.817880</td>\n",
              "      <td>1.167354</td>\n",
              "    </tr>\n",
              "    <tr>\n",
              "      <th>2</th>\n",
              "      <td>-1.730109</td>\n",
              "      <td>-1.110578</td>\n",
              "      <td>-0.830601</td>\n",
              "      <td>-0.912160</td>\n",
              "    </tr>\n",
              "    <tr>\n",
              "      <th>...</th>\n",
              "      <td>...</td>\n",
              "      <td>...</td>\n",
              "      <td>...</td>\n",
              "      <td>...</td>\n",
              "    </tr>\n",
              "    <tr>\n",
              "      <th>8</th>\n",
              "      <td>1.171609</td>\n",
              "      <td>0.079731</td>\n",
              "      <td>0.980351</td>\n",
              "      <td>1.261396</td>\n",
              "    </tr>\n",
              "    <tr>\n",
              "      <th>10</th>\n",
              "      <td>-0.170264</td>\n",
              "      <td>0.898923</td>\n",
              "      <td>-1.409453</td>\n",
              "      <td>-0.978324</td>\n",
              "    </tr>\n",
              "  </tbody>\n",
              "</table>\n",
              "<p>6 rows × 4 columns</p>\n",
              "</div>"
            ],
            "text/plain": [
              "           a         b         c         d\n",
              "0   0.746990  0.028519  0.817880  1.167354\n",
              "2  -1.730109 -1.110578 -0.830601 -0.912160\n",
              "..       ...       ...       ...       ...\n",
              "8   1.171609  0.079731  0.980351  1.261396\n",
              "10 -0.170264  0.898923 -1.409453 -0.978324\n",
              "\n",
              "[6 rows x 4 columns]"
            ]
          },
          "metadata": {},
          "execution_count": 64
        }
      ]
    },
    {
      "cell_type": "code",
      "metadata": {
        "id": "l_KLSAj9Fkd9",
        "colab": {
          "base_uri": "https://localhost:8080/"
        },
        "outputId": "de6ffded-a0de-4914-d2ea-7033e37e923a"
      },
      "source": [
        "## APPLY EXAMPLES CONT\n",
        "# Create DF with 1000 rows and 3 columns filled with random entries\n",
        "tsdf = pd.DataFrame(np.random.randn(1000, 3), columns=['A', 'B', 'C'],\n",
        "                    index=pd.date_range('1/1/2000', periods=1000))\n",
        "\n",
        "tsdf"
      ],
      "execution_count": null,
      "outputs": [
        {
          "output_type": "execute_result",
          "data": {
            "text/html": [
              "<div>\n",
              "<style scoped>\n",
              "    .dataframe tbody tr th:only-of-type {\n",
              "        vertical-align: middle;\n",
              "    }\n",
              "\n",
              "    .dataframe tbody tr th {\n",
              "        vertical-align: top;\n",
              "    }\n",
              "\n",
              "    .dataframe thead th {\n",
              "        text-align: right;\n",
              "    }\n",
              "</style>\n",
              "<table border=\"1\" class=\"dataframe\">\n",
              "  <thead>\n",
              "    <tr style=\"text-align: right;\">\n",
              "      <th></th>\n",
              "      <th>A</th>\n",
              "      <th>B</th>\n",
              "      <th>C</th>\n",
              "    </tr>\n",
              "  </thead>\n",
              "  <tbody>\n",
              "    <tr>\n",
              "      <th>2000-01-01</th>\n",
              "      <td>-1.048756</td>\n",
              "      <td>-0.378016</td>\n",
              "      <td>-1.311210</td>\n",
              "    </tr>\n",
              "    <tr>\n",
              "      <th>2000-01-02</th>\n",
              "      <td>-0.031823</td>\n",
              "      <td>-0.072688</td>\n",
              "      <td>-1.302262</td>\n",
              "    </tr>\n",
              "    <tr>\n",
              "      <th>...</th>\n",
              "      <td>...</td>\n",
              "      <td>...</td>\n",
              "      <td>...</td>\n",
              "    </tr>\n",
              "    <tr>\n",
              "      <th>2002-09-25</th>\n",
              "      <td>0.644778</td>\n",
              "      <td>-0.391566</td>\n",
              "      <td>0.527311</td>\n",
              "    </tr>\n",
              "    <tr>\n",
              "      <th>2002-09-26</th>\n",
              "      <td>-0.099126</td>\n",
              "      <td>-0.211891</td>\n",
              "      <td>0.635826</td>\n",
              "    </tr>\n",
              "  </tbody>\n",
              "</table>\n",
              "<p>1000 rows × 3 columns</p>\n",
              "</div>"
            ],
            "text/plain": [
              "                   A         B         C\n",
              "2000-01-01 -1.048756 -0.378016 -1.311210\n",
              "2000-01-02 -0.031823 -0.072688 -1.302262\n",
              "...              ...       ...       ...\n",
              "2002-09-25  0.644778 -0.391566  0.527311\n",
              "2002-09-26 -0.099126 -0.211891  0.635826\n",
              "\n",
              "[1000 rows x 3 columns]"
            ]
          },
          "metadata": {},
          "execution_count": 65
        }
      ]
    },
    {
      "cell_type": "code",
      "metadata": {
        "id": "SbSZIwV9Fkd9",
        "colab": {
          "base_uri": "https://localhost:8080/"
        },
        "outputId": "e4ac8d2a-1714-4ed1-d92e-942e7554b48f"
      },
      "source": [
        "# Can get trickier, say I wanted to find where the maximum dates occured for each column of the df:\n",
        "tsdf.apply(lambda x: x.idxmax())"
      ],
      "execution_count": null,
      "outputs": [
        {
          "output_type": "execute_result",
          "data": {
            "text/plain": [
              "A   2000-10-10\n",
              "B   2002-09-02\n",
              "C   2001-07-16\n",
              "dtype: datetime64[ns]"
            ]
          },
          "metadata": {},
          "execution_count": 66
        }
      ]
    },
    {
      "cell_type": "code",
      "metadata": {
        "id": "xqYkDgopFkd9",
        "colab": {
          "base_uri": "https://localhost:8080/"
        },
        "outputId": "bbdb0bf6-e5a8-4304-b31b-2391aa1a01c8"
      },
      "source": [
        "## APPLYMAP EXAMPLES\n",
        "tsdf = tsdf.applymap(lambda x: x - 1)\n",
        "print(tsdf.head())"
      ],
      "execution_count": null,
      "outputs": [
        {
          "output_type": "stream",
          "name": "stdout",
          "text": [
            "                   A         B         C\n",
            "2000-01-01 -2.048756 -1.378016 -2.311210\n",
            "2000-01-02 -1.031823 -1.072688 -2.302262\n",
            "...              ...       ...       ...\n",
            "2000-01-04 -2.094520  0.174125 -1.103678\n",
            "2000-01-05 -0.265962  0.926122  0.434505\n",
            "\n",
            "[5 rows x 3 columns]\n"
          ]
        }
      ]
    },
    {
      "cell_type": "markdown",
      "metadata": {
        "id": "z014WRGrFkd9"
      },
      "source": [
        "# I/O Functions\n",
        "\n",
        "- There are loads of input output features. The highlights most useful to you are likely:\n",
        "    - ``` pd.read_csv ``` / ``` pd.to_csv ``` \n",
        "    - ``` pd.read_excel ``` / ``` pd.to_excel ```\n",
        "    - ``` pd.read_sql ``` / ``` pd.to_sql ```\n",
        "    - ``` pd.read_pickle ``` / ``` pd.to_pickle ```\n",
        "Documentation:\n",
        "\n",
        "* [Pandas Import-Output Functions](https://pandas.pydata.org/pandas-docs/stable/io.html)"
      ]
    },
    {
      "cell_type": "markdown",
      "metadata": {
        "id": "x-YGhfHEFkd9"
      },
      "source": [
        "## Loading data from CSV\n",
        "\n",
        "### Iris dataset\n",
        "\n",
        "We can also directly read data from a url.\n",
        "In this case, let's have a look at the famous Iris dataset created by R.A. Fisher.\n",
        "\n",
        "Here are the first several lines of `iris.csv`:\n",
        "\n",
        "```\n",
        "sepal_length,sepal_width,petal_length,petal_width,name\n",
        "5.1,3.5,1.4,0.2,setosa\n",
        "4.9,3.0,1.4,0.2,setosa\n",
        "4.7,3.2,1.3,0.2,setosa\n",
        "4.6,3.1,1.5,0.2,setosa\n",
        "5.0,3.6,1.4,0.2,setosa\n",
        "5.4,3.9,1.7,0.4,setosa\n",
        "```"
      ]
    },
    {
      "cell_type": "code",
      "metadata": {
        "id": "aRAFTtbXFkd9",
        "colab": {
          "base_uri": "https://localhost:8080/"
        },
        "outputId": "07849ad1-44a4-4df2-a120-608a8f213a30"
      },
      "source": [
        "import pandas as pd\n",
        "# Can use df.info to find out information about the df \n",
        "iris_data = pd.read_csv('https://archive.ics.uci.edu/ml/machine-learning-databases/iris/iris.data')\n",
        "\n",
        "#iris_data = pd.read_csv('./data/iris.csv')\n",
        "iris_data.info()"
      ],
      "execution_count": null,
      "outputs": [
        {
          "output_type": "stream",
          "name": "stdout",
          "text": [
            "<class 'pandas.core.frame.DataFrame'>\n",
            "RangeIndex: 149 entries, 0 to 148\n",
            "Data columns (total 5 columns):\n",
            " #   Column       Non-Null Count  Dtype  \n",
            "---  ------       --------------  -----  \n",
            " 0   5.1          149 non-null    float64\n",
            " 1   3.5          149 non-null    float64\n",
            " 2   1.4          149 non-null    float64\n",
            " 3   0.2          149 non-null    float64\n",
            " 4   Iris-setosa  149 non-null    object \n",
            "dtypes: float64(4), object(1)\n",
            "memory usage: 5.9+ KB\n"
          ]
        }
      ]
    },
    {
      "cell_type": "code",
      "metadata": {
        "id": "pcvojmeDFkd-",
        "colab": {
          "base_uri": "https://localhost:8080/",
          "height": 236
        },
        "outputId": "9ab884d4-9bcc-4b94-83b9-e5f506249543"
      },
      "source": [
        "# describe and summarize the dataframe\n",
        "iris_data.describe()"
      ],
      "execution_count": null,
      "outputs": [
        {
          "output_type": "execute_result",
          "data": {
            "text/html": [
              "<div>\n",
              "<style scoped>\n",
              "    .dataframe tbody tr th:only-of-type {\n",
              "        vertical-align: middle;\n",
              "    }\n",
              "\n",
              "    .dataframe tbody tr th {\n",
              "        vertical-align: top;\n",
              "    }\n",
              "\n",
              "    .dataframe thead th {\n",
              "        text-align: right;\n",
              "    }\n",
              "</style>\n",
              "<table border=\"1\" class=\"dataframe\">\n",
              "  <thead>\n",
              "    <tr style=\"text-align: right;\">\n",
              "      <th></th>\n",
              "      <th>5.1</th>\n",
              "      <th>3.5</th>\n",
              "      <th>1.4</th>\n",
              "      <th>0.2</th>\n",
              "    </tr>\n",
              "  </thead>\n",
              "  <tbody>\n",
              "    <tr>\n",
              "      <th>count</th>\n",
              "      <td>149.000000</td>\n",
              "      <td>149.000000</td>\n",
              "      <td>149.000000</td>\n",
              "      <td>149.000000</td>\n",
              "    </tr>\n",
              "    <tr>\n",
              "      <th>mean</th>\n",
              "      <td>5.848322</td>\n",
              "      <td>3.051007</td>\n",
              "      <td>3.774497</td>\n",
              "      <td>1.205369</td>\n",
              "    </tr>\n",
              "    <tr>\n",
              "      <th>...</th>\n",
              "      <td>...</td>\n",
              "      <td>...</td>\n",
              "      <td>...</td>\n",
              "      <td>...</td>\n",
              "    </tr>\n",
              "    <tr>\n",
              "      <th>75%</th>\n",
              "      <td>6.400000</td>\n",
              "      <td>3.300000</td>\n",
              "      <td>5.100000</td>\n",
              "      <td>1.800000</td>\n",
              "    </tr>\n",
              "    <tr>\n",
              "      <th>max</th>\n",
              "      <td>7.900000</td>\n",
              "      <td>4.400000</td>\n",
              "      <td>6.900000</td>\n",
              "      <td>2.500000</td>\n",
              "    </tr>\n",
              "  </tbody>\n",
              "</table>\n",
              "<p>8 rows × 4 columns</p>\n",
              "</div>"
            ],
            "text/plain": [
              "              5.1         3.5         1.4         0.2\n",
              "count  149.000000  149.000000  149.000000  149.000000\n",
              "mean     5.848322    3.051007    3.774497    1.205369\n",
              "...           ...         ...         ...         ...\n",
              "75%      6.400000    3.300000    5.100000    1.800000\n",
              "max      7.900000    4.400000    6.900000    2.500000\n",
              "\n",
              "[8 rows x 4 columns]"
            ]
          },
          "metadata": {},
          "execution_count": 69
        }
      ]
    },
    {
      "cell_type": "markdown",
      "metadata": {
        "id": "xoIol8fmMf3-"
      },
      "source": [
        "This dataset doesn't have the headers included! So let's add them in by naming the columns:"
      ]
    },
    {
      "cell_type": "code",
      "metadata": {
        "collapsed": true,
        "id": "jtjKQrkyFSe_"
      },
      "source": [
        "iris_data = pd.read_csv('https://archive.ics.uci.edu/ml/machine-learning-databases/iris/iris.data', \n",
        "                 header=None,\n",
        "                 names=['sepal_length', 'sepal_width', 'petal_length', 'petal_width', 'species'])"
      ],
      "execution_count": null,
      "outputs": []
    },
    {
      "cell_type": "markdown",
      "metadata": {
        "id": "5hn7nDAPMvEU"
      },
      "source": [
        "N.b. run the code cell above again with the new iris_data to see the column names."
      ]
    },
    {
      "cell_type": "markdown",
      "metadata": {
        "id": "bdhxYD-ZFkd-"
      },
      "source": [
        "## The split/apply combo (groupyby)\n",
        "- pandas objects can be split on any of their axes. The abstract definition of grouping is to provide a mapping of labels to group names:\n",
        "- Syntax:  \n",
        "    - ``` groups = df.groupby(key) ```\n",
        "    - ``` groups = df.groupby(key, axis = 1) ```\n",
        "    - ``` groups = df.groupby([key1, key2], axis = 1) ```"
      ]
    },
    {
      "cell_type": "markdown",
      "metadata": {
        "id": "9ouFMUC5Fkd-"
      },
      "source": [
        "\n",
        "- The group by concept is that we want to apply the same function on subsets of the dataframe, based on some key we use to split the DataFrame into subsets\n",
        "- This idea is referred to as the \"split-apply-combine\" operation:\n",
        "    - Split the data into groups based on some criteria\n",
        "    - Apply a function to each group independently\n",
        "    - Combine the results \n",
        "\n",
        "![image](https://i.stack.imgur.com/sgCn1.jpg)"
      ]
    },
    {
      "cell_type": "code",
      "metadata": {
        "id": "KifLI3xmFkd-",
        "colab": {
          "base_uri": "https://localhost:8080/",
          "height": 236
        },
        "outputId": "0f13511e-d0d7-4d6d-813d-75d10da8896b"
      },
      "source": [
        "df = pd.DataFrame({'key':['A','B','C','A','B','C','A','B','C'],\n",
        "                   'data': [0, 5, 10, 5, 10, 15, 10, 15, 20]})\n",
        "df"
      ],
      "execution_count": null,
      "outputs": [
        {
          "output_type": "execute_result",
          "data": {
            "text/html": [
              "<div>\n",
              "<style scoped>\n",
              "    .dataframe tbody tr th:only-of-type {\n",
              "        vertical-align: middle;\n",
              "    }\n",
              "\n",
              "    .dataframe tbody tr th {\n",
              "        vertical-align: top;\n",
              "    }\n",
              "\n",
              "    .dataframe thead th {\n",
              "        text-align: right;\n",
              "    }\n",
              "</style>\n",
              "<table border=\"1\" class=\"dataframe\">\n",
              "  <thead>\n",
              "    <tr style=\"text-align: right;\">\n",
              "      <th></th>\n",
              "      <th>key</th>\n",
              "      <th>data</th>\n",
              "    </tr>\n",
              "  </thead>\n",
              "  <tbody>\n",
              "    <tr>\n",
              "      <th>0</th>\n",
              "      <td>A</td>\n",
              "      <td>0</td>\n",
              "    </tr>\n",
              "    <tr>\n",
              "      <th>1</th>\n",
              "      <td>B</td>\n",
              "      <td>5</td>\n",
              "    </tr>\n",
              "    <tr>\n",
              "      <th>...</th>\n",
              "      <td>...</td>\n",
              "      <td>...</td>\n",
              "    </tr>\n",
              "    <tr>\n",
              "      <th>7</th>\n",
              "      <td>B</td>\n",
              "      <td>15</td>\n",
              "    </tr>\n",
              "    <tr>\n",
              "      <th>8</th>\n",
              "      <td>C</td>\n",
              "      <td>20</td>\n",
              "    </tr>\n",
              "  </tbody>\n",
              "</table>\n",
              "<p>9 rows × 2 columns</p>\n",
              "</div>"
            ],
            "text/plain": [
              "   key  data\n",
              "0    A     0\n",
              "1    B     5\n",
              "..  ..   ...\n",
              "7    B    15\n",
              "8    C    20\n",
              "\n",
              "[9 rows x 2 columns]"
            ]
          },
          "metadata": {},
          "execution_count": 71
        }
      ]
    },
    {
      "cell_type": "code",
      "metadata": {
        "id": "oZRPRr9XFkd-",
        "colab": {
          "base_uri": "https://localhost:8080/",
          "height": 175
        },
        "outputId": "2826360a-b58c-498a-a4f8-d1d7b20eb00c"
      },
      "source": [
        "sums = df.groupby('key').agg(np.mean)\n",
        "sums"
      ],
      "execution_count": null,
      "outputs": [
        {
          "output_type": "execute_result",
          "data": {
            "text/html": [
              "<div>\n",
              "<style scoped>\n",
              "    .dataframe tbody tr th:only-of-type {\n",
              "        vertical-align: middle;\n",
              "    }\n",
              "\n",
              "    .dataframe tbody tr th {\n",
              "        vertical-align: top;\n",
              "    }\n",
              "\n",
              "    .dataframe thead th {\n",
              "        text-align: right;\n",
              "    }\n",
              "</style>\n",
              "<table border=\"1\" class=\"dataframe\">\n",
              "  <thead>\n",
              "    <tr style=\"text-align: right;\">\n",
              "      <th></th>\n",
              "      <th>data</th>\n",
              "    </tr>\n",
              "    <tr>\n",
              "      <th>key</th>\n",
              "      <th></th>\n",
              "    </tr>\n",
              "  </thead>\n",
              "  <tbody>\n",
              "    <tr>\n",
              "      <th>A</th>\n",
              "      <td>5</td>\n",
              "    </tr>\n",
              "    <tr>\n",
              "      <th>B</th>\n",
              "      <td>10</td>\n",
              "    </tr>\n",
              "    <tr>\n",
              "      <th>C</th>\n",
              "      <td>15</td>\n",
              "    </tr>\n",
              "  </tbody>\n",
              "</table>\n",
              "</div>"
            ],
            "text/plain": [
              "     data\n",
              "key      \n",
              "A       5\n",
              "B      10\n",
              "C      15"
            ]
          },
          "metadata": {},
          "execution_count": 72
        }
      ]
    },
    {
      "cell_type": "markdown",
      "metadata": {
        "id": "oixb8ybmFkd-"
      },
      "source": [
        "# Plotting data\n",
        "\n",
        "- The plot method on Series and DataFrame is just a wrapper on matplotlib plt.plot()\n",
        "- Many available plots:\n",
        "    - ‘bar’ or ‘barh’ for bar plots\n",
        "    - ‘hist’ for histogram\n",
        "    - ‘box’ for boxplot\n",
        "    - ‘kde’ or 'density' for density plots • ‘area’ for area plots\n",
        "    - ‘scatter’ for scatter plots\n",
        "    - ‘hexbin’ for hexagonal bin plots • ‘pie’ for pie plots\n",
        "    \n",
        "- There are several more complex plotting functions in pandas.tools.plotting that take a Series or DataFrame as an argument. These include:\n",
        "    - Scatter matrices\n",
        "    - Autocorrelation\n",
        "    - Bootstrap Plot"
      ]
    },
    {
      "cell_type": "code",
      "metadata": {
        "id": "NQ9K6xHeFkd_"
      },
      "source": [
        "import matplotlib.pyplot as plt"
      ],
      "execution_count": null,
      "outputs": []
    },
    {
      "cell_type": "code",
      "metadata": {
        "id": "UNijtEyhFkd_",
        "colab": {
          "base_uri": "https://localhost:8080/",
          "height": 265
        },
        "outputId": "f32640b5-f88b-4e4f-d3f6-090f00132df2"
      },
      "source": [
        "iris_data.plot();"
      ],
      "execution_count": null,
      "outputs": [
        {
          "output_type": "display_data",
          "data": {
            "image/png": "[encoded data removed]",
            "text/plain": [
              "<Figure size 432x288 with 1 Axes>"
            ]
          },
          "metadata": {
            "needs_background": "light"
          }
        }
      ]
    },
    {
      "cell_type": "code",
      "metadata": {
        "id": "Rj8UGGjFFkd_",
        "colab": {
          "base_uri": "https://localhost:8080/",
          "height": 277
        },
        "outputId": "df682474-404c-461a-cd06-ac146f3052e7"
      },
      "source": [
        "## Quick example - Random walks\n",
        "df = pd.DataFrame(np.random.randn(1000, 4), index =pd.date_range('1/1/2000', periods=1000), columns=list('ABCD'))\n",
        "df = df.cumsum()\n",
        "df.plot()\n",
        "plt.show()"
      ],
      "execution_count": null,
      "outputs": [
        {
          "output_type": "display_data",
          "data": {
            "image/png": "[encoded data removed]",
            "text/plain": [
              "<Figure size 432x288 with 1 Axes>"
            ]
          },
          "metadata": {
            "needs_background": "light"
          }
        }
      ]
    },
    {
      "cell_type": "code",
      "metadata": {
        "id": "3ODVXw5jFkeA",
        "colab": {
          "base_uri": "https://localhost:8080/",
          "height": 280
        },
        "outputId": "d9f5a5c6-56e8-437c-aa5e-d906caa0aa8a"
      },
      "source": [
        "plt.figure()\n",
        "df.iloc[5].plot(kind = 'bar')\n",
        "plt.axhline(0, color = 'k')"
      ],
      "execution_count": null,
      "outputs": [
        {
          "output_type": "execute_result",
          "data": {
            "text/plain": [
              "<matplotlib.lines.Line2D at 0x7f82e3b1e890>"
            ]
          },
          "metadata": {},
          "execution_count": 76
        },
        {
          "output_type": "display_data",
          "data": {
            "image/png": "[encoded data removed]",
            "text/plain": [
              "<Figure size 432x288 with 1 Axes>"
            ]
          },
          "metadata": {
            "needs_background": "light"
          }
        }
      ]
    },
    {
      "cell_type": "markdown",
      "metadata": {
        "id": "bJFbgqKjNxc4"
      },
      "source": [
        "Let's plot by species name. First let's look up the first species in the data frame:"
      ]
    },
    {
      "cell_type": "code",
      "metadata": {
        "colab": {
          "base_uri": "https://localhost:8080/",
          "height": 236
        },
        "id": "VUHsAU7aNj0Q",
        "outputId": "ff937506-a2e8-4367-9fdd-e654fa7af43b"
      },
      "source": [
        "iris_data.head()"
      ],
      "execution_count": null,
      "outputs": [
        {
          "output_type": "execute_result",
          "data": {
            "text/html": [
              "<div>\n",
              "<style scoped>\n",
              "    .dataframe tbody tr th:only-of-type {\n",
              "        vertical-align: middle;\n",
              "    }\n",
              "\n",
              "    .dataframe tbody tr th {\n",
              "        vertical-align: top;\n",
              "    }\n",
              "\n",
              "    .dataframe thead th {\n",
              "        text-align: right;\n",
              "    }\n",
              "</style>\n",
              "<table border=\"1\" class=\"dataframe\">\n",
              "  <thead>\n",
              "    <tr style=\"text-align: right;\">\n",
              "      <th></th>\n",
              "      <th>sepal_length</th>\n",
              "      <th>sepal_width</th>\n",
              "      <th>petal_length</th>\n",
              "      <th>petal_width</th>\n",
              "      <th>species</th>\n",
              "    </tr>\n",
              "  </thead>\n",
              "  <tbody>\n",
              "    <tr>\n",
              "      <th>0</th>\n",
              "      <td>5.1</td>\n",
              "      <td>3.5</td>\n",
              "      <td>1.4</td>\n",
              "      <td>0.2</td>\n",
              "      <td>Iris-setosa</td>\n",
              "    </tr>\n",
              "    <tr>\n",
              "      <th>1</th>\n",
              "      <td>4.9</td>\n",
              "      <td>3.0</td>\n",
              "      <td>1.4</td>\n",
              "      <td>0.2</td>\n",
              "      <td>Iris-setosa</td>\n",
              "    </tr>\n",
              "    <tr>\n",
              "      <th>...</th>\n",
              "      <td>...</td>\n",
              "      <td>...</td>\n",
              "      <td>...</td>\n",
              "      <td>...</td>\n",
              "      <td>...</td>\n",
              "    </tr>\n",
              "    <tr>\n",
              "      <th>3</th>\n",
              "      <td>4.6</td>\n",
              "      <td>3.1</td>\n",
              "      <td>1.5</td>\n",
              "      <td>0.2</td>\n",
              "      <td>Iris-setosa</td>\n",
              "    </tr>\n",
              "    <tr>\n",
              "      <th>4</th>\n",
              "      <td>5.0</td>\n",
              "      <td>3.6</td>\n",
              "      <td>1.4</td>\n",
              "      <td>0.2</td>\n",
              "      <td>Iris-setosa</td>\n",
              "    </tr>\n",
              "  </tbody>\n",
              "</table>\n",
              "<p>5 rows × 5 columns</p>\n",
              "</div>"
            ],
            "text/plain": [
              "    sepal_length  sepal_width  petal_length  petal_width      species\n",
              "0            5.1          3.5           1.4          0.2  Iris-setosa\n",
              "1            4.9          3.0           1.4          0.2  Iris-setosa\n",
              "..           ...          ...           ...          ...          ...\n",
              "3            4.6          3.1           1.5          0.2  Iris-setosa\n",
              "4            5.0          3.6           1.4          0.2  Iris-setosa\n",
              "\n",
              "[5 rows x 5 columns]"
            ]
          },
          "metadata": {},
          "execution_count": 77
        }
      ]
    },
    {
      "cell_type": "code",
      "metadata": {
        "id": "Tgx6WGGwFkeA",
        "colab": {
          "base_uri": "https://localhost:8080/",
          "height": 266
        },
        "outputId": "ccfd6387-610e-40f4-8b73-da41a9fca0f6"
      },
      "source": [
        "#data = pd.read_csv('./data/iris.csv')\n",
        "ax = iris_data.groupby('species') \\\n",
        "         .get_group('Iris-setosa') \\\n",
        "         .boxplot(column=[\"sepal_length\",\"sepal_width\"], return_type='axes')"
      ],
      "execution_count": null,
      "outputs": [
        {
          "output_type": "display_data",
          "data": {
            "image/png": "[encoded data removed]",
            "text/plain": [
              "<Figure size 432x288 with 1 Axes>"
            ]
          },
          "metadata": {
            "needs_background": "light"
          }
        }
      ]
    },
    {
      "cell_type": "markdown",
      "metadata": {
        "id": "qsxJ8nc8N7bw"
      },
      "source": [
        "We'll now use another different library, called Seaborn, to plot an exploratory type of graph called a **pairs plot**. Seaborn uses Matplotlib visualisations. It is always useful to meet a new libary! I like Seaborn for pairs plots, as it is very pretty! "
      ]
    },
    {
      "cell_type": "code",
      "metadata": {
        "id": "W3LeoLU4OODE"
      },
      "source": [
        "import seaborn as sns\n",
        "\n",
        "sns.set_style(\"dark\")\n",
        "sns.set_context(\"talk\")"
      ],
      "execution_count": null,
      "outputs": []
    },
    {
      "cell_type": "code",
      "metadata": {
        "colab": {
          "base_uri": "https://localhost:8080/",
          "height": 735
        },
        "id": "Jnykls1cFSfA",
        "outputId": "e6cfded7-942f-423b-ac8c-640e64540e9b"
      },
      "source": [
        "sns.pairplot(iris_data, hue='species')"
      ],
      "execution_count": null,
      "outputs": [
        {
          "output_type": "execute_result",
          "data": {
            "text/plain": [
              "<seaborn.axisgrid.PairGrid at 0x7f82cca3b190>"
            ]
          },
          "metadata": {},
          "execution_count": 80
        },
        {
          "output_type": "display_data",
          "data": {
            "image/png": "[encoded data removed]",
            "text/plain": [
              "<Figure size 889.775x720 with 20 Axes>"
            ]
          },
          "metadata": {}
        }
      ]
    }
  ]
}