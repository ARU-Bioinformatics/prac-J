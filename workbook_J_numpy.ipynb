{
  "nbformat": 4,
  "nbformat_minor": 0,
  "metadata": {
    "kernelspec": {
      "display_name": "Python 3",
      "language": "python",
      "name": "python3"
    },
    "language_info": {
      "codemirror_mode": {
        "name": "ipython",
        "version": 3
      },
      "file_extension": ".py",
      "mimetype": "text/x-python",
      "name": "python",
      "nbconvert_exporter": "python",
      "pygments_lexer": "ipython3",
      "version": "3.8.5"
    },
    "colab": {
      "name": "workbook_J_numpy.ipynb",
      "provenance": [],
      "collapsed_sections": [
        "9cULyZB4Fisg",
        "3Exet4M1Fisg",
        "Q-R61CNOFisi",
        "tnFDLVegFisl",
        "6Yc7oKw3Fisq",
        "zLi4KDM_Fisq",
        "LIRPO01wFiss",
        "sdIgDwh6Fist",
        "qZ2kHZZCFisw",
        "7iSoJ9jTFis2",
        "nPu4iB23Fis3",
        "JdHW1TfrFis3",
        "LlFkgDZUFis6",
        "x827Xp7QFis6"
      ]
    }
  },
  "cells": [
    {
      "cell_type": "markdown",
      "metadata": {
        "id": "s1RUMQpcFisW"
      },
      "source": [
        "# Practical J - NumPy\n",
        "\n",
        "## What is NumPy?\n",
        "- Most common package for scientific computing with Python\n",
        "- Its fundamental object is `np.array`, an multidimensional array of numbers\n",
        "- Provides linear algebra, Fourier transform, random number capabilities\n",
        "- Building block for other packages (e.g. SciPy, scikit-learn)\n",
        "- Open source, huge dev community!\n",
        "\n",
        "In this practical we will cover\n",
        "1. Basics of Numpy\n",
        "2. Understand basics of arrays\n",
        "3. Understand matrixes and how to index arrays"
      ]
    },
    {
      "cell_type": "code",
      "metadata": {
        "id": "Xv6Zt7gJFisY"
      },
      "source": [
        "import numpy as np"
      ],
      "execution_count": null,
      "outputs": []
    },
    {
      "cell_type": "markdown",
      "metadata": {
        "id": "n3h3X8OpFisZ"
      },
      "source": [
        "## Numpy\n",
        "\n",
        "Main object type is `np.array`\n",
        "\n",
        "Many ways to create it,\n",
        "\n",
        "One way is to convert a python list"
      ]
    },
    {
      "cell_type": "code",
      "metadata": {
        "id": "QrTg-HVVFisZ"
      },
      "source": [
        "python_list = [ 1,2,3 ]\n",
        "np.array(python_list)"
      ],
      "execution_count": null,
      "outputs": []
    },
    {
      "cell_type": "code",
      "metadata": {
        "id": "VMpbjO7HFisa"
      },
      "source": [
        "arr = np.array([1,2,3])\n",
        "arr"
      ],
      "execution_count": null,
      "outputs": []
    },
    {
      "cell_type": "markdown",
      "metadata": {
        "id": "7T0-U4eOFisa"
      },
      "source": [
        "Many times a list comprehension is used to create a list and then converted to a array"
      ]
    },
    {
      "cell_type": "code",
      "metadata": {
        "id": "He5-oOyrFisb"
      },
      "source": [
        "arr = np.array([ 2**i for i in [2,3,9] ])\n",
        "arr"
      ],
      "execution_count": null,
      "outputs": []
    },
    {
      "cell_type": "code",
      "metadata": {
        "id": "n-svBzIJFisc"
      },
      "source": [
        "arr = np.array([ 2**i for i in range(10) if i!= 5 ])\n",
        "arr"
      ],
      "execution_count": null,
      "outputs": []
    },
    {
      "cell_type": "markdown",
      "metadata": {
        "id": "1TITpo8FFisc"
      },
      "source": [
        "### Exercise\n",
        "Create a numpy array that contain  intergers i  such that  0<i<100 and $2^i$ has the last digit 6"
      ]
    },
    {
      "cell_type": "code",
      "metadata": {
        "id": "zePSEJaPFisd"
      },
      "source": [
        ""
      ],
      "execution_count": null,
      "outputs": []
    },
    {
      "cell_type": "markdown",
      "metadata": {
        "id": "jipyKtUvFisd"
      },
      "source": [
        "Create a 2D numpy array $A$ such that $A_{ij} = i\\times j$"
      ]
    },
    {
      "cell_type": "code",
      "metadata": {
        "id": "lKZwqjH1Fise"
      },
      "source": [
        ""
      ],
      "execution_count": null,
      "outputs": []
    },
    {
      "cell_type": "markdown",
      "metadata": {
        "id": "G_TXRAl-Fise"
      },
      "source": [
        "## Vectorization"
      ]
    },
    {
      "cell_type": "code",
      "metadata": {
        "id": "v3snCRWSFise"
      },
      "source": [
        "def fn(x):\n",
        "    return x*x + 4*x +5"
      ],
      "execution_count": null,
      "outputs": []
    },
    {
      "cell_type": "code",
      "metadata": {
        "id": "3r8mFb8-Fisf"
      },
      "source": [
        "test_list = [i for i in range(20)]\n",
        "[fn(i) for i in test_list]"
      ],
      "execution_count": null,
      "outputs": []
    },
    {
      "cell_type": "code",
      "metadata": {
        "id": "4l3nKUPaFisf"
      },
      "source": [
        "%%timeit\n",
        "x = np.linspace(0,1,10000)\n",
        "for i in range(10000):\n",
        "    x[i] = fn(x[i])\n"
      ],
      "execution_count": null,
      "outputs": []
    },
    {
      "cell_type": "code",
      "metadata": {
        "id": "kHGcbNCPFisf"
      },
      "source": [
        "%%timeit\n",
        "x = np.linspace(0,1,10000)\n",
        "fn(x)"
      ],
      "execution_count": null,
      "outputs": []
    },
    {
      "cell_type": "markdown",
      "metadata": {
        "id": "9cULyZB4Fisg"
      },
      "source": [
        "### Exercise\n",
        "Create an array of first 10 powers of 2"
      ]
    },
    {
      "cell_type": "code",
      "metadata": {
        "id": "Qj2nWus8GlgO"
      },
      "source": [
        ""
      ],
      "execution_count": null,
      "outputs": []
    },
    {
      "cell_type": "markdown",
      "metadata": {
        "id": "3Exet4M1Fisg"
      },
      "source": [
        "## Another way to create a numpy array is with initializing functions\n",
        "\n",
        "- np.zeros\n",
        "- np.ones\n",
        "- np.arange\n",
        "\n",
        "These functions along with `reshape` can be used to create initial matrix without any for loops"
      ]
    },
    {
      "cell_type": "code",
      "metadata": {
        "id": "eSul3LVIFish"
      },
      "source": [
        "np.zeros((10,10))"
      ],
      "execution_count": null,
      "outputs": []
    },
    {
      "cell_type": "code",
      "metadata": {
        "id": "2Tulwc6aFish"
      },
      "source": [
        "5*np.ones((10,10))"
      ],
      "execution_count": null,
      "outputs": []
    },
    {
      "cell_type": "code",
      "metadata": {
        "id": "vuNB498NFish"
      },
      "source": [
        "np.arange(2,10, 2)"
      ],
      "execution_count": null,
      "outputs": []
    },
    {
      "cell_type": "markdown",
      "metadata": {
        "id": "P5CNlsI2Fish"
      },
      "source": [
        "You can combine these functions with arithmetic operations"
      ]
    },
    {
      "cell_type": "code",
      "metadata": {
        "id": "W7ZnIDSfFisi"
      },
      "source": [
        "np.zeros((10,10)) + 5"
      ],
      "execution_count": null,
      "outputs": []
    },
    {
      "cell_type": "code",
      "metadata": {
        "id": "qIPLpyvfFisi"
      },
      "source": [
        "np.ones((10,10))*5"
      ],
      "execution_count": null,
      "outputs": []
    },
    {
      "cell_type": "code",
      "metadata": {
        "id": "_oPn3K1NFisi"
      },
      "source": [
        "np.arange(10)*np.arange(10)"
      ],
      "execution_count": null,
      "outputs": []
    },
    {
      "cell_type": "code",
      "metadata": {
        "id": "bJZWe0jOFisi"
      },
      "source": [
        "np.arange(10).reshape(10,1)*np.arange(10)"
      ],
      "execution_count": null,
      "outputs": []
    },
    {
      "cell_type": "markdown",
      "metadata": {
        "id": "Q-R61CNOFisi"
      },
      "source": [
        "### Distinction between numpy 1D arrays and numpy 2D arrays\n",
        "\n",
        "This tends to cause a lot of confusion for new numpy users.\n",
        "Follow the below examples carefully to understand the distinction."
      ]
    },
    {
      "cell_type": "code",
      "metadata": {
        "id": "k2SeSgqzFisj"
      },
      "source": [
        "X = np.arange(10)\n",
        "print(X)\n",
        "print(X.shape)"
      ],
      "execution_count": null,
      "outputs": []
    },
    {
      "cell_type": "code",
      "metadata": {
        "id": "kpf-lNTMFisj"
      },
      "source": [
        "Y=np.arange(24).reshape(6,4)\n",
        "print(Y)\n",
        "print(Y.shape)"
      ],
      "execution_count": null,
      "outputs": []
    },
    {
      "cell_type": "code",
      "metadata": {
        "id": "Yn9eJKuQFisj"
      },
      "source": [
        "np.zeros(10).shape"
      ],
      "execution_count": null,
      "outputs": []
    },
    {
      "cell_type": "code",
      "metadata": {
        "id": "zdIiYTk3Fisj"
      },
      "source": [
        "Z = np.zeros((1,10))\n",
        "Z.shape"
      ],
      "execution_count": null,
      "outputs": []
    },
    {
      "cell_type": "code",
      "metadata": {
        "id": "DwrRRFkkFisk"
      },
      "source": [
        "Z.squeeze().shape"
      ],
      "execution_count": null,
      "outputs": []
    },
    {
      "cell_type": "code",
      "metadata": {
        "id": "XfeC4fl1Fisk"
      },
      "source": [
        "Mat = np.random.randn(10,10)"
      ],
      "execution_count": null,
      "outputs": []
    },
    {
      "cell_type": "code",
      "metadata": {
        "id": "cud6Y2J8Fisk"
      },
      "source": [
        "print(X.shape)\n",
        "print((Mat@X).shape)\n",
        "Mat@X"
      ],
      "execution_count": null,
      "outputs": []
    },
    {
      "cell_type": "code",
      "metadata": {
        "id": "OXTqXra4Fisl"
      },
      "source": [
        "Z.transpose().shape"
      ],
      "execution_count": null,
      "outputs": []
    },
    {
      "cell_type": "code",
      "metadata": {
        "id": "RRTnl0k0Fisl"
      },
      "source": [
        "print(Z)\n",
        "Mat@Z.transpose()"
      ],
      "execution_count": null,
      "outputs": []
    },
    {
      "cell_type": "code",
      "metadata": {
        "id": "n1vrncmKFisl"
      },
      "source": [
        "np.arange(10).reshape(-1,1)*np.arange(10)"
      ],
      "execution_count": null,
      "outputs": []
    },
    {
      "cell_type": "code",
      "metadata": {
        "id": "PbxrxGDKFisl"
      },
      "source": [
        "x = np.zeros((10,10))\n",
        "print(x[1,1])\n",
        "print(x[1][1])\n",
        "y =x\n",
        "x[1,1]= 2\n",
        "y"
      ],
      "execution_count": null,
      "outputs": []
    },
    {
      "cell_type": "markdown",
      "metadata": {
        "id": "tnFDLVegFisl"
      },
      "source": [
        "## Array Broadcasting\n",
        "\n",
        "Normally you only do arithmetic operations between arrays of the same dimension"
      ]
    },
    {
      "cell_type": "code",
      "metadata": {
        "id": "-txmaRqJFism"
      },
      "source": [
        "np.ones((5,5,5))"
      ],
      "execution_count": null,
      "outputs": []
    },
    {
      "cell_type": "code",
      "metadata": {
        "id": "vbar9mz9Fism"
      },
      "source": [
        "np.ones((5,5,5)) + np.arange(5*5*5).reshape(5,5,5)"
      ],
      "execution_count": null,
      "outputs": []
    },
    {
      "cell_type": "code",
      "metadata": {
        "id": "HQ1eUewQFism"
      },
      "source": [
        "np.ones((5,5)) + np.ones((5,5))\n",
        "np.ones((5,5)) + 1\n",
        "np.ones((5,5)) + np.arange(5)"
      ],
      "execution_count": null,
      "outputs": []
    },
    {
      "cell_type": "code",
      "metadata": {
        "id": "Ur1TLWjtFism"
      },
      "source": [
        "np.ones((5,5,5)) + np.arange(5).reshape(5,1,1)"
      ],
      "execution_count": null,
      "outputs": []
    },
    {
      "cell_type": "code",
      "metadata": {
        "id": "c4YvkuTCFism"
      },
      "source": [
        "np.ones((6,1))"
      ],
      "execution_count": null,
      "outputs": []
    },
    {
      "cell_type": "code",
      "metadata": {
        "id": "mWRczTfuFisn"
      },
      "source": [
        "np.ones((1,5))"
      ],
      "execution_count": null,
      "outputs": []
    },
    {
      "cell_type": "code",
      "metadata": {
        "id": "W6FHWd3YFiso"
      },
      "source": [
        "np.ones((1,5)) + np.ones((6,1))"
      ],
      "execution_count": null,
      "outputs": []
    },
    {
      "cell_type": "markdown",
      "metadata": {
        "id": "tMdML2pLFisp"
      },
      "source": [
        "![](http://scipy-lectures.org/_images/numpy_broadcasting.png)"
      ]
    },
    {
      "cell_type": "markdown",
      "metadata": {
        "id": "6Yc7oKw3Fisq"
      },
      "source": [
        "### Exercise\n",
        "create a 2D numpy array $A$ such that $A_{ij} = i\\times j$, but without using list comprehensions. Use broadcasting instead\n"
      ]
    },
    {
      "cell_type": "code",
      "metadata": {
        "id": "Jnkc3dMWFisq"
      },
      "source": [
        ""
      ],
      "execution_count": null,
      "outputs": []
    },
    {
      "cell_type": "markdown",
      "metadata": {
        "id": "_6L2a2u-Fisq"
      },
      "source": [
        "Use array broadcasting to create a (10,10) numpy array with values\n",
        "$$ A_{ij} = 2^i + j $$"
      ]
    },
    {
      "cell_type": "code",
      "metadata": {
        "id": "mln6vJ_WFisq"
      },
      "source": [
        ""
      ],
      "execution_count": null,
      "outputs": []
    },
    {
      "cell_type": "markdown",
      "metadata": {
        "id": "zLi4KDM_Fisq"
      },
      "source": [
        "## Matrix creation\n",
        "\n",
        "There are some functions to create standard matrices"
      ]
    },
    {
      "cell_type": "code",
      "metadata": {
        "id": "HpyuQNtJFisr"
      },
      "source": [
        "np.eye(10)"
      ],
      "execution_count": null,
      "outputs": []
    },
    {
      "cell_type": "code",
      "metadata": {
        "id": "c9wVX28OFisr"
      },
      "source": [
        "M = np.diag(np.arange(10))\n",
        "M"
      ],
      "execution_count": null,
      "outputs": []
    },
    {
      "cell_type": "code",
      "metadata": {
        "id": "k2TmVKXpFisr"
      },
      "source": [
        "i=2; j=2\n",
        "M[i,j] = 3\n",
        "M"
      ],
      "execution_count": null,
      "outputs": []
    },
    {
      "cell_type": "code",
      "metadata": {
        "id": "DKgT2KxVFisr"
      },
      "source": [
        "np.diag(M)"
      ],
      "execution_count": null,
      "outputs": []
    },
    {
      "cell_type": "code",
      "metadata": {
        "id": "LzvcOt_KFiss"
      },
      "source": [
        "A = np.arange(15).reshape(5,3).T\n",
        "A"
      ],
      "execution_count": null,
      "outputs": []
    },
    {
      "cell_type": "code",
      "metadata": {
        "id": "prDHMttsFiss"
      },
      "source": [
        "x = np.arange(3).reshape(-1,1)\n",
        "y = np.arange(3).reshape(1,-1)\n",
        "np.dot(x,y) #equivalent to x*y\n",
        "#np.inner(y.T,x)"
      ],
      "execution_count": null,
      "outputs": []
    },
    {
      "cell_type": "code",
      "metadata": {
        "id": "-Kx9F6XKFiss"
      },
      "source": [
        "np.dot(y,x)\n",
        "np.inner(y,x.T)"
      ],
      "execution_count": null,
      "outputs": []
    },
    {
      "cell_type": "code",
      "metadata": {
        "id": "KYs8m6rYFiss"
      },
      "source": [
        "x @ y"
      ],
      "execution_count": null,
      "outputs": []
    },
    {
      "cell_type": "markdown",
      "metadata": {
        "id": "LIRPO01wFiss"
      },
      "source": [
        "### Exercise\n",
        "\n",
        "Create this matrix \n",
        "```\n",
        "array([[5., 1., 1., 1., 1., 1., 1., 1., 1., 1., 1.],\n",
        "       [1., 4., 1., 1., 1., 1., 1., 1., 1., 1., 1.],\n",
        "       [1., 1., 3., 1., 1., 1., 1., 1., 1., 1., 1.],\n",
        "       [1., 1., 1., 2., 1., 1., 1., 1., 1., 1., 1.],\n",
        "       [1., 1., 1., 1., 1., 1., 1., 1., 1., 1., 1.],\n",
        "       [1., 1., 1., 1., 1., 0., 1., 1., 1., 1., 1.],\n",
        "       [1., 1., 1., 1., 1., 1., 1., 1., 1., 1., 1.],\n",
        "       [1., 1., 1., 1., 1., 1., 1., 2., 1., 1., 1.],\n",
        "       [1., 1., 1., 1., 1., 1., 1., 1., 3., 1., 1.],\n",
        "       [1., 1., 1., 1., 1., 1., 1., 1., 1., 4., 1.],\n",
        "       [1., 1., 1., 1., 1., 1., 1., 1., 1., 1., 5.]])```"
      ]
    },
    {
      "cell_type": "code",
      "metadata": {
        "id": "ij6vvWubFist"
      },
      "source": [
        ""
      ],
      "execution_count": null,
      "outputs": []
    },
    {
      "cell_type": "markdown",
      "metadata": {
        "id": "sdIgDwh6Fist"
      },
      "source": [
        "## Array Indexing and Slicing"
      ]
    },
    {
      "cell_type": "code",
      "metadata": {
        "id": "4XqT9alUFist"
      },
      "source": [
        "import numpy as np\n",
        "arr = np.arange(10)\n",
        "arr"
      ],
      "execution_count": null,
      "outputs": []
    },
    {
      "cell_type": "code",
      "metadata": {
        "id": "tEpergiQFist"
      },
      "source": [
        "arr[5], arr[-3]"
      ],
      "execution_count": null,
      "outputs": []
    },
    {
      "cell_type": "code",
      "metadata": {
        "id": "K9Fy-0cvFisu"
      },
      "source": [
        "arr[3:7]"
      ],
      "execution_count": null,
      "outputs": []
    },
    {
      "cell_type": "code",
      "metadata": {
        "id": "TiG_GRfeFisu"
      },
      "source": [
        "arr[2:]"
      ],
      "execution_count": null,
      "outputs": []
    },
    {
      "cell_type": "code",
      "metadata": {
        "id": "z-oMRWnZFisu"
      },
      "source": [
        "arr[0:-2]"
      ],
      "execution_count": null,
      "outputs": []
    },
    {
      "cell_type": "code",
      "metadata": {
        "id": "2qyy1k2gFisu"
      },
      "source": [
        "arr[0:6:2] #same as range(0,6,2)"
      ],
      "execution_count": null,
      "outputs": []
    },
    {
      "cell_type": "code",
      "metadata": {
        "id": "NRaHFT1lFisu"
      },
      "source": [
        "arr[5:0:-2]"
      ],
      "execution_count": null,
      "outputs": []
    },
    {
      "cell_type": "code",
      "metadata": {
        "id": "IuzZ74owFisu"
      },
      "source": [
        "arr[::-1]"
      ],
      "execution_count": null,
      "outputs": []
    },
    {
      "cell_type": "code",
      "metadata": {
        "id": "njGUCLLCFisv"
      },
      "source": [
        "arr[-1]"
      ],
      "execution_count": null,
      "outputs": []
    },
    {
      "cell_type": "code",
      "metadata": {
        "id": "BucF_hqpFisv"
      },
      "source": [
        "M[:,2]"
      ],
      "execution_count": null,
      "outputs": []
    },
    {
      "cell_type": "code",
      "metadata": {
        "id": "oykdk_4cFisv"
      },
      "source": [
        "M"
      ],
      "execution_count": null,
      "outputs": []
    },
    {
      "cell_type": "markdown",
      "metadata": {
        "id": "HugQcXxzFisv"
      },
      "source": [
        "Can use all the above slicing methods for each dimension of a multidemnsional array\n",
        "![](http://scipy-lectures.org/_images/numpy_indexing.png)"
      ]
    },
    {
      "cell_type": "markdown",
      "metadata": {
        "id": "9CUpn9Y7Fisv"
      },
      "source": [
        "try it yourself"
      ]
    },
    {
      "cell_type": "code",
      "metadata": {
        "id": "YHDJ2oFcFisw"
      },
      "source": [
        "a = 10*np.arange(6).reshape(-1,1)+np.arange(6)\n",
        "a[2::2,::2]"
      ],
      "execution_count": null,
      "outputs": []
    },
    {
      "cell_type": "code",
      "metadata": {
        "id": "EpEC-6EpFisw"
      },
      "source": [
        "a[0,3:5] = 1\n",
        "a"
      ],
      "execution_count": null,
      "outputs": []
    },
    {
      "cell_type": "markdown",
      "metadata": {
        "id": "qZ2kHZZCFisw"
      },
      "source": [
        "### Exercise\n",
        "Create the following matrix\n",
        "```\n",
        "array([[1., 1., 1., 1., 1., 1., 1., 1., 1., 1.],\n",
        "       [1., 1., 1., 1., 1., 1., 1., 1., 1., 1.],\n",
        "       [1., 1., 0., 0., 0., 0., 0., 0., 1., 1.],\n",
        "       [1., 1., 0., 0., 0., 0., 0., 0., 1., 1.],\n",
        "       [1., 1., 0., 0., 0., 0., 0., 0., 1., 1.],\n",
        "       [1., 1., 0., 0., 0., 0., 0., 0., 1., 1.],\n",
        "       [1., 1., 0., 0., 0., 0., 0., 0., 1., 1.],\n",
        "       [1., 1., 0., 0., 0., 0., 0., 0., 1., 1.],\n",
        "       [1., 1., 1., 1., 1., 1., 1., 1., 1., 1.],\n",
        "       [1., 1., 1., 1., 1., 1., 1., 1., 1., 1.]])```"
      ]
    },
    {
      "cell_type": "code",
      "metadata": {
        "id": "QY31zfl5Fisw"
      },
      "source": [
        ""
      ],
      "execution_count": null,
      "outputs": []
    },
    {
      "cell_type": "markdown",
      "metadata": {
        "id": "CKsLGsR1Fisw"
      },
      "source": [
        "Create the following matrix\n",
        "```\n",
        "array([[-1., -1., -1., -1., -1., -1., -1., -1., -1., -1.],\n",
        "       [-1.,  0.,  1.,  2.,  3.,  4., -1., -1., -1., -1.],\n",
        "       [-1.,  5.,  6.,  7.,  8.,  9., -1., -1., -1., -1.],\n",
        "       [-1., 10., 11., 12., 13., 14., -1., -1., -1., -1.],\n",
        "       [-1., 15., 16., 17., 18., 19., -1., -1., -1., -1.],\n",
        "       [-1., 20., 21., 22., 23., 24., -1., -1., -1., -1.],\n",
        "       [-1., 25., 26., 27., 28., 29., -1., -1., -1., -1.],\n",
        "       [-1., 30., 31., 32., 33., 34., -1., -1., -1., -1.],\n",
        "       [-1., 35., 36., 37., 38., 39., -1., -1., -1., -1.],\n",
        "       [-1., -1., -1., -1., -1., -1., -1., -1., -1., -1.]])```"
      ]
    },
    {
      "cell_type": "code",
      "metadata": {
        "id": "McEbhKi8Fisz"
      },
      "source": [
        ""
      ],
      "execution_count": null,
      "outputs": []
    },
    {
      "cell_type": "markdown",
      "metadata": {
        "id": "aT3Z4YcbFis0"
      },
      "source": [
        "# Fancy Array Indexing\n",
        "\n",
        "We can use numpy arrays as an index for other numpy arrays"
      ]
    },
    {
      "cell_type": "code",
      "metadata": {
        "id": "yku4eRHkFis0"
      },
      "source": [
        "arr = np.arange(10)\n",
        "arr"
      ],
      "execution_count": null,
      "outputs": []
    },
    {
      "cell_type": "code",
      "metadata": {
        "id": "HAjA_ehBFis0"
      },
      "source": [
        "idx = np.array([7,-1,2])\n",
        "idx"
      ],
      "execution_count": null,
      "outputs": []
    },
    {
      "cell_type": "code",
      "metadata": {
        "id": "5o0vMAq2Fis0"
      },
      "source": [
        "arr[idx] = -1\n",
        "arr"
      ],
      "execution_count": null,
      "outputs": []
    },
    {
      "cell_type": "code",
      "metadata": {
        "id": "7DOvdw7cFis1"
      },
      "source": [
        "arr<0"
      ],
      "execution_count": null,
      "outputs": []
    },
    {
      "cell_type": "code",
      "metadata": {
        "id": "GT_MjqhAFis1"
      },
      "source": [
        "arr[arr<0] = np.arange(3)\n",
        "arr"
      ],
      "execution_count": null,
      "outputs": []
    },
    {
      "cell_type": "markdown",
      "metadata": {
        "id": "L6HvWkknFis1"
      },
      "source": [
        "For multidimensional array, array indexing works different from slicing"
      ]
    },
    {
      "cell_type": "code",
      "metadata": {
        "id": "ufxFuUi4Fis1"
      },
      "source": [
        "one_dim = np.arange(5)\n",
        "one_dim[0:3]"
      ],
      "execution_count": null,
      "outputs": []
    },
    {
      "cell_type": "code",
      "metadata": {
        "id": "OYE87jrcFis1"
      },
      "source": [
        "X = np.zeros((10,10))\n",
        "X[3:8,3:9]=1\n",
        "X"
      ],
      "execution_count": null,
      "outputs": []
    },
    {
      "cell_type": "code",
      "metadata": {
        "id": "MKh6pxDwFis2"
      },
      "source": [
        "X = np.zeros((10,10))\n",
        "X[np.arange(3,9),np.arange(3,9)]=1\n",
        "X"
      ],
      "execution_count": null,
      "outputs": []
    },
    {
      "cell_type": "code",
      "metadata": {
        "id": "maVfgPb5Fis2"
      },
      "source": [
        "a\n",
        "rows = np.arange(3)\n",
        "cols = np.array([-1,3,0])\n",
        "a[rows,cols]"
      ],
      "execution_count": null,
      "outputs": []
    },
    {
      "cell_type": "code",
      "metadata": {
        "id": "W1Qjo0ujFis2"
      },
      "source": [
        "a = 10*np.arange(6).reshape(-1,1)+np.arange(6)\n",
        "mask = np.array([1,0,1,0,0,1], dtype = bool)\n",
        "print(mask)\n",
        "a[mask,2]"
      ],
      "execution_count": null,
      "outputs": []
    },
    {
      "cell_type": "markdown",
      "metadata": {
        "id": "GWh74c2BFis2"
      },
      "source": [
        "![](http://scipy-lectures.org/_images/numpy_fancy_indexing.png)"
      ]
    },
    {
      "cell_type": "markdown",
      "metadata": {
        "id": "7iSoJ9jTFis2"
      },
      "source": [
        "### Exercise\n",
        "Create the following matrix\n",
        "```\n",
        "array([[0., 0., 0., 0., 0., 0., 0., 0., 0., 1.],\n",
        "       [0., 0., 0., 0., 0., 0., 0., 1., 0., 0.],\n",
        "       [0., 0., 0., 0., 0., 1., 0., 0., 0., 0.],\n",
        "       [0., 0., 0., 1., 0., 0., 0., 0., 0., 0.],\n",
        "       [0., 1., 0., 0., 0., 0., 0., 0., 0., 0.],\n",
        "       [0., 1., 0., 0., 0., 0., 0., 0., 0., 0.],\n",
        "       [0., 0., 0., 1., 0., 0., 0., 0., 0., 0.],\n",
        "       [0., 0., 0., 0., 0., 1., 0., 0., 0., 0.],\n",
        "       [0., 0., 0., 0., 0., 0., 0., 1., 0., 0.],\n",
        "       [0., 0., 0., 0., 0., 0., 0., 0., 0., 1.]])```"
      ]
    },
    {
      "cell_type": "code",
      "metadata": {
        "id": "ISwYbxkYFis2"
      },
      "source": [
        ""
      ],
      "execution_count": null,
      "outputs": []
    },
    {
      "cell_type": "markdown",
      "metadata": {
        "id": "nPu4iB23Fis3"
      },
      "source": [
        "### Exercise\n",
        "Write a function to compute the [trace](https://en.wikipedia.org/wiki/Trace_(linear_algebra)) of a square numpy array using fancy array indexing. Compare your implementation to numpy's built-in function `np.trace`."
      ]
    },
    {
      "cell_type": "code",
      "metadata": {
        "id": "d_sChZFFFis3"
      },
      "source": [
        ""
      ],
      "execution_count": null,
      "outputs": []
    },
    {
      "cell_type": "markdown",
      "metadata": {
        "id": "arU2EdH0Fis3"
      },
      "source": [
        "We can use `np.where`, to get indices of the `True` values in a boolean array"
      ]
    },
    {
      "cell_type": "code",
      "metadata": {
        "id": "dl2gf5t8Fis3"
      },
      "source": [
        "X = np.arange(10)\n",
        "Y = np.zeros((10,10))\n",
        "np.where(X>0)\n",
        "Y[np.where(X>0)]=2\n",
        "Y"
      ],
      "execution_count": null,
      "outputs": []
    },
    {
      "cell_type": "markdown",
      "metadata": {
        "id": "JdHW1TfrFis3"
      },
      "source": [
        "## Reduction operations\n",
        "\n",
        "Many reduction functions are available\n",
        "\n",
        "- np.sum, np.prod\n",
        "- np.min, np.max\n",
        "- np.any, np.all\n",
        "\n",
        "Partial reductions\n",
        "\n",
        "- np.cumsum, np.cumprod"
      ]
    },
    {
      "cell_type": "code",
      "metadata": {
        "id": "0mvog7CiFis3"
      },
      "source": [
        "X = np.arange(100).reshape(10,10)\n",
        "X"
      ],
      "execution_count": null,
      "outputs": []
    },
    {
      "cell_type": "code",
      "metadata": {
        "id": "zc479mHiFis3"
      },
      "source": [
        "np.sum(X),np.prod(X)"
      ],
      "execution_count": null,
      "outputs": []
    },
    {
      "cell_type": "code",
      "metadata": {
        "id": "2S7WpOgNFis3"
      },
      "source": [
        "np.sum(X,axis=1)"
      ],
      "execution_count": null,
      "outputs": []
    },
    {
      "cell_type": "code",
      "metadata": {
        "id": "nOdUeYHbFis4"
      },
      "source": [
        "np.min(X),np.max(X)"
      ],
      "execution_count": null,
      "outputs": []
    },
    {
      "cell_type": "code",
      "metadata": {
        "id": "YD2Tio2fFis4"
      },
      "source": [
        "np.min(X,axis=0)"
      ],
      "execution_count": null,
      "outputs": []
    },
    {
      "cell_type": "code",
      "metadata": {
        "id": "FqwqFtsKFis4"
      },
      "source": [
        "Y = X<1\n",
        "Y"
      ],
      "execution_count": null,
      "outputs": []
    },
    {
      "cell_type": "code",
      "metadata": {
        "id": "7HaaIhDTFis4"
      },
      "source": [
        "np.any(Y,axis=0)"
      ],
      "execution_count": null,
      "outputs": []
    },
    {
      "cell_type": "code",
      "metadata": {
        "id": "N8tCGimQFis4"
      },
      "source": [
        "np.all(Y,axis=1)"
      ],
      "execution_count": null,
      "outputs": []
    },
    {
      "cell_type": "markdown",
      "metadata": {
        "id": "Nnrcrs5IFis5"
      },
      "source": [
        "All the above functions can be called on the array object directly"
      ]
    },
    {
      "cell_type": "code",
      "metadata": {
        "id": "cpx0E69IFis5"
      },
      "source": [
        "X.max(axis=0)"
      ],
      "execution_count": null,
      "outputs": []
    },
    {
      "cell_type": "code",
      "metadata": {
        "id": "VMq5PMEwFis5"
      },
      "source": [
        "(np.sqrt(X*X*X)<5000).all()"
      ],
      "execution_count": null,
      "outputs": []
    },
    {
      "cell_type": "code",
      "metadata": {
        "id": "EIu3jjq2Fis5"
      },
      "source": [
        "np.cumsum(np.ones((10,10)),axis=1)"
      ],
      "execution_count": null,
      "outputs": []
    },
    {
      "cell_type": "markdown",
      "metadata": {
        "id": "gL51BVxkFis5"
      },
      "source": [
        "Cumulative operations don't change the shape of the array"
      ]
    },
    {
      "cell_type": "code",
      "metadata": {
        "id": "-EYPUAHXFis6"
      },
      "source": [
        "np.cumsum(X,axis=0)"
      ],
      "execution_count": null,
      "outputs": []
    },
    {
      "cell_type": "markdown",
      "metadata": {
        "id": "LlFkgDZUFis6"
      },
      "source": [
        "### Exercise\n",
        "\n",
        "- Find the column with maximum column sum\n",
        "- For which rows of the matrix, the sum of the first three elements of the row is greater than the sum of the last two elements of the row"
      ]
    },
    {
      "cell_type": "code",
      "metadata": {
        "id": "MpmJkpynFis6"
      },
      "source": [
        ""
      ],
      "execution_count": null,
      "outputs": []
    },
    {
      "cell_type": "markdown",
      "metadata": {
        "id": "x827Xp7QFis6"
      },
      "source": [
        "### Exercise\n",
        "Compute the the moving average of the array `y` created below, with window size 5."
      ]
    },
    {
      "cell_type": "code",
      "metadata": {
        "id": "Hu2UD-XvFis6"
      },
      "source": [
        ""
      ],
      "execution_count": null,
      "outputs": []
    }
  ]
}