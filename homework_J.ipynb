{
  "nbformat": 4,
  "nbformat_minor": 0,
  "metadata": {
    "kernelspec": {
      "display_name": "Python 2",
      "language": "python",
      "name": "python2"
    },
    "language_info": {
      "codemirror_mode": {
        "name": "ipython",
        "version": 2
      },
      "file_extension": ".py",
      "mimetype": "text/x-python",
      "name": "python",
      "nbconvert_exporter": "python",
      "pygments_lexer": "ipython2",
      "version": "2.7.9"
    },
    "colab": {
      "name": "homework_J.ipynb",
      "provenance": [],
      "collapsed_sections": []
    }
  },
  "cells": [
    {
      "cell_type": "markdown",
      "metadata": {
        "id": "S__cMQHrQR-L"
      },
      "source": [
        "# Practical J - Exercises\n",
        "\n",
        "What we have seen so far\n",
        "- Introduction to NumPy\n",
        "- Plotting using matplotlib\n",
        "- Introduction to SciPy (optional)\n",
        "- Introduction to Pandas\n",
        "\n",
        "Welcome to the exercises for practical J. Attempt this exercise if you have done the numpy, pandas and Matplotlib parts of the practical. Save your notebook and then upload it to the Canvas site. We will review it at the beginning of trimester two."
      ]
    },
    {
      "cell_type": "code",
      "metadata": {
        "collapsed": true,
        "id": "u6qhKZiZPoRQ"
      },
      "source": [
        "%matplotlib inline\n",
        "\n",
        "import numpy as np\n",
        "import scipy as sp\n",
        "import pandas as pd\n",
        "import matplotlib.pyplot as plt\n",
        "import seaborn as sns\n",
        "\n",
        "sns.set_context(\"talk\")"
      ],
      "execution_count": null,
      "outputs": []
    },
    {
      "cell_type": "markdown",
      "metadata": {
        "id": "j5cctCQcPoRR"
      },
      "source": [
        "# Anscombe's quartet\n",
        "\n",
        "Anscombe's quartet comprises of four datasets, and is rather famous. Why? You'll find out in this exercise.\n",
        "First you need to read in the data. The import to a pandas data frame will not work, as currently the dataset is on the IBDS GitHub repo and on Canvas. Your first challenge is to find a way to import the data!"
      ]
    },
    {
      "cell_type": "code",
      "metadata": {
        "id": "2ca0y3LDPoRS",
        "outputId": "ffa5e9c4-2a0f-40f5-fa32-6543d1669697"
      },
      "source": [
        "anascombe = pd.read_csv('data/anscombe.csv')\n",
        "anascombe.head()"
      ],
      "execution_count": null,
      "outputs": [
        {
          "data": {
            "text/html": [
              "<div style=\"max-height:1000px;max-width:1500px;overflow:auto;\">\n",
              "<table border=\"1\" class=\"dataframe\">\n",
              "  <thead>\n",
              "    <tr style=\"text-align: right;\">\n",
              "      <th></th>\n",
              "      <th>dataset</th>\n",
              "      <th>x</th>\n",
              "      <th>y</th>\n",
              "    </tr>\n",
              "  </thead>\n",
              "  <tbody>\n",
              "    <tr>\n",
              "      <th>0</th>\n",
              "      <td>I</td>\n",
              "      <td>10</td>\n",
              "      <td>8.04</td>\n",
              "    </tr>\n",
              "    <tr>\n",
              "      <th>1</th>\n",
              "      <td>I</td>\n",
              "      <td>8</td>\n",
              "      <td>6.95</td>\n",
              "    </tr>\n",
              "    <tr>\n",
              "      <th>2</th>\n",
              "      <td>I</td>\n",
              "      <td>13</td>\n",
              "      <td>7.58</td>\n",
              "    </tr>\n",
              "    <tr>\n",
              "      <th>3</th>\n",
              "      <td>I</td>\n",
              "      <td>9</td>\n",
              "      <td>8.81</td>\n",
              "    </tr>\n",
              "    <tr>\n",
              "      <th>4</th>\n",
              "      <td>I</td>\n",
              "      <td>11</td>\n",
              "      <td>8.33</td>\n",
              "    </tr>\n",
              "  </tbody>\n",
              "</table>\n",
              "</div>"
            ],
            "text/plain": [
              "  dataset   x     y\n",
              "0       I  10  8.04\n",
              "1       I   8  6.95\n",
              "2       I  13  7.58\n",
              "3       I   9  8.81\n",
              "4       I  11  8.33"
            ]
          },
          "execution_count": 4,
          "metadata": {},
          "output_type": "execute_result"
        }
      ]
    },
    {
      "cell_type": "markdown",
      "metadata": {
        "id": "5hWWRa6lPoRT"
      },
      "source": [
        "## Part 1 (compulsory)\n",
        "\n",
        "Using Seaborn or Matplotlib, visualize all four datasets. "
      ]
    },
    {
      "cell_type": "code",
      "metadata": {
        "collapsed": true,
        "id": "mM4rSHWpPoRT"
      },
      "source": [
        "# your code here"
      ],
      "execution_count": null,
      "outputs": []
    },
    {
      "cell_type": "markdown",
      "metadata": {
        "id": "upHwDjlUPoRT"
      },
      "source": [
        "## Part 2 (optional)\n",
        "\n",
        "For each of the four datasets...\n",
        " - Compute the mean and variance of both **x** and **y**\n",
        " - Compute the correlation coefficient between **x** and **y**\n",
        " - Compute the linear regression line: $y = \\beta_0 + \\beta_1 x + \\epsilon$ (hint: don't worry about this last one if you haven't looked at SciPy. If you have any knowledge of R you could also use an R magic cell to do this)"
      ]
    },
    {
      "cell_type": "code",
      "metadata": {
        "collapsed": true,
        "id": "-2kV02z_PoRT"
      },
      "source": [
        "# your code here"
      ],
      "execution_count": null,
      "outputs": []
    }
  ]
}